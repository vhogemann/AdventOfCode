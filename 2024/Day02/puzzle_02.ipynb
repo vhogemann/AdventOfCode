{
 "cells": [
  {
   "cell_type": "code",
   "execution_count": 69,
   "metadata": {
    "dotnet_interactive": {
     "language": "csharp"
    },
    "polyglot_notebook": {
     "kernelName": "csharp"
    },
    "vscode": {
     "languageId": "polyglot-notebook"
    }
   },
   "outputs": [
    {
     "data": {
      "text/plain": [
       "7 6 4 2 1\r\n",
       "1 2 7 8 9\r\n",
       "9 7 6 2 1\r\n",
       "1 3 2 4 5\r\n",
       "8 6 4 4 1\r\n",
       "1 3 6 7 9"
      ]
     },
     "metadata": {},
     "output_type": "display_data"
    }
   ],
   "source": [
    "#!value --name example\n",
    "7 6 4 2 1\n",
    "1 2 7 8 9\n",
    "9 7 6 2 1\n",
    "1 3 2 4 5\n",
    "8 6 4 4 1\n",
    "1 3 6 7 9"
   ]
  },
  {
   "cell_type": "code",
   "execution_count": null,
   "metadata": {
    "dotnet_interactive": {
     "language": "fsharp"
    },
    "polyglot_notebook": {
     "kernelName": "fsharp"
    },
    "vscode": {
     "languageId": "polyglot-notebook"
    }
   },
   "outputs": [
    {
     "data": {
      "text/html": [
       "<div class=\"dni-plaintext\"><pre>4</pre></div><style>\r\n",
       ".dni-code-hint {\r\n",
       "    font-style: italic;\r\n",
       "    overflow: hidden;\r\n",
       "    white-space: nowrap;\r\n",
       "}\r\n",
       ".dni-treeview {\r\n",
       "    white-space: nowrap;\r\n",
       "}\r\n",
       ".dni-treeview td {\r\n",
       "    vertical-align: top;\r\n",
       "    text-align: start;\r\n",
       "}\r\n",
       "details.dni-treeview {\r\n",
       "    padding-left: 1em;\r\n",
       "}\r\n",
       "table td {\r\n",
       "    text-align: start;\r\n",
       "}\r\n",
       "table tr { \r\n",
       "    vertical-align: top; \r\n",
       "    margin: 0em 0px;\r\n",
       "}\r\n",
       "table tr td pre \r\n",
       "{ \r\n",
       "    vertical-align: top !important; \r\n",
       "    margin: 0em 0px !important;\r\n",
       "} \r\n",
       "table th {\r\n",
       "    text-align: start;\r\n",
       "}\r\n",
       "</style>"
      ]
     },
     "metadata": {},
     "output_type": "display_data"
    }
   ],
   "source": [
    "#!share --from value example\n",
    "\n",
    "let lineParse (line:string) =\n",
    "    line.Split(\" \")\n",
    "    |> Array.map int\n",
    "    |> Array.toList\n",
    "\n",
    "let isSameSignal x y =\n",
    "    (x >= 0 && y >= 0) || (x <= 0 && y <= 0)\n",
    "\n",
    "let transitions (levels:int list) =\n",
    "    let rec check levels acc delta =\n",
    "        match levels with\n",
    "        | [] -> acc\n",
    "        | [ x ] -> [ x, true ] |> List.append acc \n",
    "        | head :: next :: tail ->\n",
    "            let newDelta = head - next\n",
    "\n",
    "            let sameDirection = isSameSignal delta newDelta\n",
    "            let notSame = newDelta <> 0\n",
    "            let safeIncrement = Math.Abs(newDelta) <= 3\n",
    "\n",
    "            let valid = sameDirection && notSame && safeIncrement\n",
    "\n",
    "            check (tail |> List.append [next]) ([head, valid] |> List.append acc) newDelta \n",
    "    check levels List.empty 0\n",
    "\n",
    "let isValid levels =\n",
    "    levels\n",
    "    |> List.map snd\n",
    "    |> List.reduce (&&)\n",
    "\n",
    "let dampener (levels:(int*bool) list) =\n",
    "    let rec dampen level levels =\n",
    "        match levels with\n",
    "        | [] -> []\n",
    "        | (lvl, valid) :: tail when lvl = level && not valid -> tail\n",
    "        | head :: tail -> head :: dampen level tail\n",
    "    \n",
    "    levels\n",
    "    |> List.filter(fun (_, valid) -> not valid)\n",
    "    |> List.map fst\n",
    "    |> List.map (fun level -> \n",
    "        levels \n",
    "        |> dampen level\n",
    "        |> List.map fst\n",
    "        |> transitions\n",
    "    )\n",
    "    |> List.filter isValid\n",
    "    |> List.tryHead\n",
    "    |> Option.defaultValue levels\n",
    "    \n",
    "\n",
    "example.Split(\"\\n\")\n",
    "|> Array.toList\n",
    "|> List.map lineParse\n",
    "|> List.map transitions\n",
    "|> List.map dampener\n",
    "|> List.map isValid\n",
    "|> List.filter id\n",
    "|> List.length"
   ]
  },
  {
   "cell_type": "code",
   "execution_count": 125,
   "metadata": {
    "dotnet_interactive": {
     "language": "fsharp"
    },
    "polyglot_notebook": {
     "kernelName": "fsharp"
    },
    "vscode": {
     "languageId": "polyglot-notebook"
    }
   },
   "outputs": [
    {
     "data": {
      "text/html": [
       "<div class=\"dni-plaintext\"><pre>514</pre></div><style>\r\n",
       ".dni-code-hint {\r\n",
       "    font-style: italic;\r\n",
       "    overflow: hidden;\r\n",
       "    white-space: nowrap;\r\n",
       "}\r\n",
       ".dni-treeview {\r\n",
       "    white-space: nowrap;\r\n",
       "}\r\n",
       ".dni-treeview td {\r\n",
       "    vertical-align: top;\r\n",
       "    text-align: start;\r\n",
       "}\r\n",
       "details.dni-treeview {\r\n",
       "    padding-left: 1em;\r\n",
       "}\r\n",
       "table td {\r\n",
       "    text-align: start;\r\n",
       "}\r\n",
       "table tr { \r\n",
       "    vertical-align: top; \r\n",
       "    margin: 0em 0px;\r\n",
       "}\r\n",
       "table tr td pre \r\n",
       "{ \r\n",
       "    vertical-align: top !important; \r\n",
       "    margin: 0em 0px !important;\r\n",
       "} \r\n",
       "table th {\r\n",
       "    text-align: start;\r\n",
       "}\r\n",
       "</style>"
      ]
     },
     "metadata": {},
     "output_type": "display_data"
    }
   ],
   "source": [
    "File.ReadAllLines(\"input_01.txt\")\n",
    "|> Array.toList\n",
    "|> List.map lineParse\n",
    "|> List.map transitions\n",
    "|> List.map dampener\n",
    "|> List.map isValid\n",
    "|> List.filter id\n",
    "|> List.length"
   ]
  }
 ],
 "metadata": {
  "kernelspec": {
   "display_name": ".NET (C#)",
   "language": "C#",
   "name": ".net-csharp"
  },
  "language_info": {
   "name": "csharp"
  },
  "polyglot_notebook": {
   "kernelInfo": {
    "defaultKernelName": "csharp",
    "items": [
     {
      "aliases": [],
      "name": "csharp"
     }
    ]
   }
  }
 },
 "nbformat": 4,
 "nbformat_minor": 2
}
