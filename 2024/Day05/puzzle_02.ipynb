{
 "cells": [
  {
   "cell_type": "code",
   "execution_count": 2,
   "metadata": {
    "dotnet_interactive": {
     "language": "csharp"
    },
    "polyglot_notebook": {
     "kernelName": "csharp"
    },
    "vscode": {
     "languageId": "polyglot-notebook"
    }
   },
   "outputs": [
    {
     "data": {
      "text/plain": [
       "47|53\n",
       "97|13\n",
       "97|61\n",
       "97|47\n",
       "75|29\n",
       "61|13\n",
       "75|53\n",
       "29|13\n",
       "97|29\n",
       "53|29\n",
       "61|53\n",
       "97|53\n",
       "61|29\n",
       "47|13\n",
       "75|47\n",
       "97|75\n",
       "47|61\n",
       "75|61\n",
       "47|29\n",
       "75|13\n",
       "53|13\n",
       "\n",
       "75,47,61,53,29\n",
       "97,61,53,29,13\n",
       "75,29,13\n",
       "75,97,47,61,53\n",
       "61,13,29\n",
       "97,13,75,29,47"
      ]
     },
     "metadata": {},
     "output_type": "display_data"
    }
   ],
   "source": [
    "#!value --name example\n",
    "47|53\n",
    "97|13\n",
    "97|61\n",
    "97|47\n",
    "75|29\n",
    "61|13\n",
    "75|53\n",
    "29|13\n",
    "97|29\n",
    "53|29\n",
    "61|53\n",
    "97|53\n",
    "61|29\n",
    "47|13\n",
    "75|47\n",
    "97|75\n",
    "47|61\n",
    "75|61\n",
    "47|29\n",
    "75|13\n",
    "53|13\n",
    "\n",
    "75,47,61,53,29\n",
    "97,61,53,29,13\n",
    "75,29,13\n",
    "75,97,47,61,53\n",
    "61,13,29\n",
    "97,13,75,29,47"
   ]
  },
  {
   "cell_type": "code",
   "execution_count": 4,
   "metadata": {
    "dotnet_interactive": {
     "language": "fsharp"
    },
    "polyglot_notebook": {
     "kernelName": "fsharp"
    },
    "vscode": {
     "languageId": "polyglot-notebook"
    }
   },
   "outputs": [
    {
     "data": {
      "text/html": [
       "<div class=\"dni-plaintext\"><pre>123</pre></div><style>\r\n",
       ".dni-code-hint {\r\n",
       "    font-style: italic;\r\n",
       "    overflow: hidden;\r\n",
       "    white-space: nowrap;\r\n",
       "}\r\n",
       ".dni-treeview {\r\n",
       "    white-space: nowrap;\r\n",
       "}\r\n",
       ".dni-treeview td {\r\n",
       "    vertical-align: top;\r\n",
       "    text-align: start;\r\n",
       "}\r\n",
       "details.dni-treeview {\r\n",
       "    padding-left: 1em;\r\n",
       "}\r\n",
       "table td {\r\n",
       "    text-align: start;\r\n",
       "}\r\n",
       "table tr { \r\n",
       "    vertical-align: top; \r\n",
       "    margin: 0em 0px;\r\n",
       "}\r\n",
       "table tr td pre \r\n",
       "{ \r\n",
       "    vertical-align: top !important; \r\n",
       "    margin: 0em 0px !important;\r\n",
       "} \r\n",
       "table th {\r\n",
       "    text-align: start;\r\n",
       "}\r\n",
       "</style>"
      ]
     },
     "metadata": {},
     "output_type": "display_data"
    }
   ],
   "source": [
    "#!share --from value example\n",
    "\n",
    "let parse (input:string) =\n",
    "    let dataSets = input.Split(\"\\n\\n\")\n",
    "    let index =\n",
    "        dataSets.[0].Split(\"\\n\")\n",
    "        |> Seq.map (_.Trim().Split(\"|\"))\n",
    "        |> Seq.map (fun it -> int it.[0], int it.[1])\n",
    "    let pages =\n",
    "        dataSets.[1].Split(\"\\n\")\n",
    "        |> Seq.map (_.Trim().Split(\",\"))\n",
    "        |> Seq.map (Seq.map int)\n",
    "    index, pages\n",
    "\n",
    "let ltIndexFolder (state:Map<int,int list>) (lower:int, higher:int) : Map<int,int list> =\n",
    "    if state |> Map.containsKey lower then\n",
    "        state |> Map.change lower (fun maybe -> \n",
    "            maybe\n",
    "            |> Option.map(fun pages -> higher :: pages ))\n",
    "    else\n",
    "        state |> Map.add lower [ higher ]\n",
    "\n",
    "let gtIndexFolder (state:Map<int,int list>) (lower:int, higher:int) : Map<int,int list> =\n",
    "    if state |> Map.containsKey higher then\n",
    "        state |> Map.change higher (fun maybe -> \n",
    "            maybe\n",
    "            |> Option.map(fun pages -> lower :: pages ))\n",
    "    else\n",
    "        state |> Map.add higher [ lower ]\n",
    "\n",
    "\n",
    "let comparator index a b =\n",
    "    let lt = index |> Seq.fold ltIndexFolder Map.empty\n",
    "    let gt = index |> Seq.fold gtIndexFolder Map.empty\n",
    "\n",
    "    if lt |> Map.containsKey a && lt.[a] |> Seq.contains b then \n",
    "        -1\n",
    "    elif gt |> Map.containsKey a && gt.[a] |> Seq.contains b then\n",
    "        1\n",
    "    else\n",
    "        0\n",
    "\n",
    "let solution data =\n",
    "    let index, pages = parse data\n",
    "    let comp = comparator index\n",
    "\n",
    "\n",
    "    pages\n",
    "    |> Seq.filter (fun it ->\n",
    "        let sorted = it |> Seq.sortWith comp\n",
    "        sorted |> Seq.compareWith (-) it\n",
    "        |> (fun x -> x <> 0)\n",
    "    )\n",
    "    |> Seq.map(Seq.sortWith comp)\n",
    "    |> Seq.map(fun it ->\n",
    "        let mid = (( it |> Seq.length ) - 1) / 2 \n",
    "        it |> Seq.item mid\n",
    "    )\n",
    "    |> Seq.sum\n",
    "\n",
    "let index, pages = parse example\n",
    "\n",
    "\n",
    "solution example"
   ]
  },
  {
   "cell_type": "code",
   "execution_count": 5,
   "metadata": {
    "dotnet_interactive": {
     "language": "fsharp"
    },
    "polyglot_notebook": {
     "kernelName": "fsharp"
    },
    "vscode": {
     "languageId": "polyglot-notebook"
    }
   },
   "outputs": [
    {
     "data": {
      "text/html": [
       "<div class=\"dni-plaintext\"><pre>6732</pre></div><style>\r\n",
       ".dni-code-hint {\r\n",
       "    font-style: italic;\r\n",
       "    overflow: hidden;\r\n",
       "    white-space: nowrap;\r\n",
       "}\r\n",
       ".dni-treeview {\r\n",
       "    white-space: nowrap;\r\n",
       "}\r\n",
       ".dni-treeview td {\r\n",
       "    vertical-align: top;\r\n",
       "    text-align: start;\r\n",
       "}\r\n",
       "details.dni-treeview {\r\n",
       "    padding-left: 1em;\r\n",
       "}\r\n",
       "table td {\r\n",
       "    text-align: start;\r\n",
       "}\r\n",
       "table tr { \r\n",
       "    vertical-align: top; \r\n",
       "    margin: 0em 0px;\r\n",
       "}\r\n",
       "table tr td pre \r\n",
       "{ \r\n",
       "    vertical-align: top !important; \r\n",
       "    margin: 0em 0px !important;\r\n",
       "} \r\n",
       "table th {\r\n",
       "    text-align: start;\r\n",
       "}\r\n",
       "</style>"
      ]
     },
     "metadata": {},
     "output_type": "display_data"
    }
   ],
   "source": [
    "File.ReadAllText(\"input.txt\") |> solution"
   ]
  }
 ],
 "metadata": {
  "kernelspec": {
   "display_name": ".NET (C#)",
   "language": "C#",
   "name": ".net-csharp"
  },
  "language_info": {
   "name": "csharp"
  },
  "polyglot_notebook": {
   "kernelInfo": {
    "defaultKernelName": "csharp",
    "items": [
     {
      "aliases": [],
      "name": "csharp"
     }
    ]
   }
  }
 },
 "nbformat": 4,
 "nbformat_minor": 2
}
