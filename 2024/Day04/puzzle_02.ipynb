{
 "cells": [
  {
   "cell_type": "code",
   "execution_count": 1,
   "metadata": {
    "dotnet_interactive": {
     "language": "csharp"
    },
    "polyglot_notebook": {
     "kernelName": "csharp"
    },
    "vscode": {
     "languageId": "polyglot-notebook"
    }
   },
   "outputs": [
    {
     "data": {
      "text/plain": [
       ".M.S......\r\n",
       "..A..MSMS.\r\n",
       ".M.S.MAA..\r\n",
       "..A.ASMSM.\r\n",
       ".M.S.M....\r\n",
       "..........\r\n",
       "S.S.S.S.S.\r\n",
       ".A.A.A.A..\r\n",
       "M.M.M.M.M.\r\n",
       ".........."
      ]
     },
     "metadata": {},
     "output_type": "display_data"
    }
   ],
   "source": [
    "#!value --name example \n",
    ".M.S......\n",
    "..A..MSMS.\n",
    ".M.S.MAA..\n",
    "..A.ASMSM.\n",
    ".M.S.M....\n",
    "..........\n",
    "S.S.S.S.S.\n",
    ".A.A.A.A..\n",
    "M.M.M.M.M.\n",
    ".........."
   ]
  },
  {
   "cell_type": "code",
   "execution_count": 19,
   "metadata": {
    "dotnet_interactive": {
     "language": "fsharp"
    },
    "polyglot_notebook": {
     "kernelName": "fsharp"
    },
    "vscode": {
     "languageId": "polyglot-notebook"
    }
   },
   "outputs": [
    {
     "data": {
      "text/html": [
       "<div class=\"dni-plaintext\"><pre>9</pre></div><style>\r\n",
       ".dni-code-hint {\r\n",
       "    font-style: italic;\r\n",
       "    overflow: hidden;\r\n",
       "    white-space: nowrap;\r\n",
       "}\r\n",
       ".dni-treeview {\r\n",
       "    white-space: nowrap;\r\n",
       "}\r\n",
       ".dni-treeview td {\r\n",
       "    vertical-align: top;\r\n",
       "    text-align: start;\r\n",
       "}\r\n",
       "details.dni-treeview {\r\n",
       "    padding-left: 1em;\r\n",
       "}\r\n",
       "table td {\r\n",
       "    text-align: start;\r\n",
       "}\r\n",
       "table tr { \r\n",
       "    vertical-align: top; \r\n",
       "    margin: 0em 0px;\r\n",
       "}\r\n",
       "table tr td pre \r\n",
       "{ \r\n",
       "    vertical-align: top !important; \r\n",
       "    margin: 0em 0px !important;\r\n",
       "} \r\n",
       "table th {\r\n",
       "    text-align: start;\r\n",
       "}\r\n",
       "</style>"
      ]
     },
     "metadata": {},
     "output_type": "display_data"
    }
   ],
   "source": [
    "#!share --from value example\n",
    "\n",
    "type Point = \n",
    "    { \n",
    "        x:int \n",
    "        y:int \n",
    "    }\n",
    "    static member (+) (p1:Point, p2:Point) = \n",
    "        { x = p1.x + p2.x ; y = p1.y + p2.y }\n",
    "\n",
    "    static member mid (p1:Point, p2:Point) =\n",
    "        { x = (p1.x + p2.x) / 2; y = (p1.y + p2.y) / 2 }\n",
    "\n",
    "let N = { x = 0; y = -1 }\n",
    "let S = { x = 0; y = 1 }\n",
    "let W = { x = -1; y = 0 }\n",
    "let E = { x = 1; y = 0 } \n",
    "\n",
    "let NE = N + E\n",
    "let SE = S + E\n",
    "let NW = N + W\n",
    "let SW = S + W\n",
    "\n",
    "let directions = [ NW; SW; SE; NE ]\n",
    "\n",
    "let getChar idx =\n",
    "    \"MAS\".[idx]\n",
    "\n",
    "let canAdvance (from:Point) (direction:Point) (lines: string array) =\n",
    "    let width = lines.[0].Trim().Length - 1\n",
    "    let height = lines.Length - 1\n",
    "    let horizontal =\n",
    "        match direction with \n",
    "        | { y = -1; x = _ } -> from.y > 0\n",
    "        | { y = 1; x = _ }  -> from.y < height\n",
    "        | _ -> true\n",
    "    let vertical =\n",
    "        match direction with\n",
    "        | { y = _; x = -1 } -> from.x > 0\n",
    "        | { y = _; x = 1 } -> from.x < width\n",
    "        | _ -> true\n",
    "    \n",
    "    horizontal && vertical\n",
    "\n",
    "let rec search (start:Point) (curr:Point) (direction:Point) (idx:int) (lines: string array) =\n",
    "    if lines.[curr.y].[curr.x] = \"MAS\".[idx] then\n",
    "        if idx = 2 then \n",
    "            Some [ start; curr ]\n",
    "        elif canAdvance curr direction lines then\n",
    "            search start (curr + direction) (direction) (idx + 1) lines\n",
    "        else \n",
    "            None\n",
    "    else\n",
    "        None\n",
    "\n",
    "let wordSearch (lines:string array) =\n",
    "    let width = lines.[0].Trim().Length - 1\n",
    "    let height = lines.Length - 1\n",
    "    seq {\n",
    "        for x in 0..width do\n",
    "            for y in 0..height do\n",
    "                for direction in directions do\n",
    "                    let point = { x = x; y = y }\n",
    "                    yield search point point direction 0 lines\n",
    "    }\n",
    "    |> Seq.choose id\n",
    "    |> Seq.map (Seq.reduce (fun a b -> Point.mid (a,b)))\n",
    "    |> Seq.groupBy id\n",
    "    |> Seq.filter (fun (point, points) -> (points |> Seq.length) = 2 )\n",
    "    |> Seq.length\n",
    "\n",
    "example.Split(\"\\n\") |> wordSearch"
   ]
  },
  {
   "cell_type": "code",
   "execution_count": 20,
   "metadata": {
    "dotnet_interactive": {
     "language": "fsharp"
    },
    "polyglot_notebook": {
     "kernelName": "fsharp"
    },
    "vscode": {
     "languageId": "polyglot-notebook"
    }
   },
   "outputs": [
    {
     "data": {
      "text/html": [
       "<div class=\"dni-plaintext\"><pre>2005</pre></div><style>\r\n",
       ".dni-code-hint {\r\n",
       "    font-style: italic;\r\n",
       "    overflow: hidden;\r\n",
       "    white-space: nowrap;\r\n",
       "}\r\n",
       ".dni-treeview {\r\n",
       "    white-space: nowrap;\r\n",
       "}\r\n",
       ".dni-treeview td {\r\n",
       "    vertical-align: top;\r\n",
       "    text-align: start;\r\n",
       "}\r\n",
       "details.dni-treeview {\r\n",
       "    padding-left: 1em;\r\n",
       "}\r\n",
       "table td {\r\n",
       "    text-align: start;\r\n",
       "}\r\n",
       "table tr { \r\n",
       "    vertical-align: top; \r\n",
       "    margin: 0em 0px;\r\n",
       "}\r\n",
       "table tr td pre \r\n",
       "{ \r\n",
       "    vertical-align: top !important; \r\n",
       "    margin: 0em 0px !important;\r\n",
       "} \r\n",
       "table th {\r\n",
       "    text-align: start;\r\n",
       "}\r\n",
       "</style>"
      ]
     },
     "metadata": {},
     "output_type": "display_data"
    }
   ],
   "source": [
    "File.ReadAllLines(\"input.txt\") |> wordSearch"
   ]
  }
 ],
 "metadata": {
  "kernelspec": {
   "display_name": ".NET (C#)",
   "language": "C#",
   "name": ".net-csharp"
  },
  "language_info": {
   "name": "csharp"
  },
  "polyglot_notebook": {
   "kernelInfo": {
    "defaultKernelName": "csharp",
    "items": [
     {
      "aliases": [],
      "name": "csharp"
     }
    ]
   }
  }
 },
 "nbformat": 4,
 "nbformat_minor": 2
}
