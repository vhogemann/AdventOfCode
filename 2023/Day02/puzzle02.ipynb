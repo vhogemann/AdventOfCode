{
 "cells": [
  {
   "cell_type": "code",
   "execution_count": 2,
   "metadata": {
    "dotnet_interactive": {
     "language": "csharp"
    },
    "polyglot_notebook": {
     "kernelName": "csharp"
    },
    "vscode": {
     "languageId": "polyglot-notebook"
    }
   },
   "outputs": [],
   "source": [
    "#!value --name example01 \n",
    "Game 1: 3 blue, 4 red; 1 red, 2 green, 6 blue; 2 green\n",
    "Game 2: 1 blue, 2 green; 3 green, 4 blue, 1 red; 1 green, 1 blue\n",
    "Game 3: 8 green, 6 blue, 20 red; 5 blue, 4 red, 13 green; 5 green, 1 red\n",
    "Game 4: 1 green, 3 red, 6 blue; 3 green, 6 red; 3 green, 15 blue, 14 red\n",
    "Game 5: 6 red, 1 blue, 3 green; 2 blue, 1 red, 2 green"
   ]
  },
  {
   "cell_type": "code",
   "execution_count": 60,
   "metadata": {
    "dotnet_interactive": {
     "language": "fsharp"
    },
    "polyglot_notebook": {
     "kernelName": "fsharp"
    },
    "vscode": {
     "languageId": "polyglot-notebook"
    }
   },
   "outputs": [
    {
     "data": {
      "text/html": [
       "<div class=\"dni-plaintext\"><pre>8</pre></div><style>\r\n",
       ".dni-code-hint {\r\n",
       "    font-style: italic;\r\n",
       "    overflow: hidden;\r\n",
       "    white-space: nowrap;\r\n",
       "}\r\n",
       ".dni-treeview {\r\n",
       "    white-space: nowrap;\r\n",
       "}\r\n",
       ".dni-treeview td {\r\n",
       "    vertical-align: top;\r\n",
       "    text-align: start;\r\n",
       "}\r\n",
       "details.dni-treeview {\r\n",
       "    padding-left: 1em;\r\n",
       "}\r\n",
       "table td {\r\n",
       "    text-align: start;\r\n",
       "}\r\n",
       "table tr { \r\n",
       "    vertical-align: top; \r\n",
       "    margin: 0em 0px;\r\n",
       "}\r\n",
       "table tr td pre \r\n",
       "{ \r\n",
       "    vertical-align: top !important; \r\n",
       "    margin: 0em 0px !important;\r\n",
       "} \r\n",
       "table th {\r\n",
       "    text-align: start;\r\n",
       "}\r\n",
       "</style>"
      ]
     },
     "metadata": {},
     "output_type": "display_data"
    }
   ],
   "source": [
    "#!share --from value example01\n",
    "// Game 1\n",
    "let parseGame (game:string) =\n",
    "    game.Trim().Split(\" \").[1] |> int\n",
    "// 3 blue\n",
    "let parseColor (color:string) =\n",
    "    let parts = color.Trim().Split(\" \")\n",
    "    int parts.[0], parts.[1].Trim()\n",
    "\n",
    "// 3 blue, 4 red\n",
    "let parseRound (round:string) =\n",
    "    round.Trim().Split(\",\")\n",
    "    |> Seq.map(fun it -> it.Trim())\n",
    "    |> Seq.map parseColor\n",
    "\n",
    "let parse (line:string) = \n",
    "    let parts = line.Trim().Split(\":\")\n",
    "    let game = parts.[0] |> parseGame\n",
    "    let rounds = \n",
    "        parts.[1].Trim().Split(\";\")\n",
    "        |> Seq.map parseRound\n",
    "    game, rounds\n",
    "\n",
    "let filterRound red green blue (round:(int*string)seq) =\n",
    "    round\n",
    "    |> Seq.filter( fun (count, color) ->\n",
    "        match color with\n",
    "        | \"red\" -> count > red\n",
    "        | \"green\" -> count > green\n",
    "        | \"blue\" -> count > blue\n",
    "        | _ -> true\n",
    "    )\n",
    "    |> Seq.isEmpty\n",
    "    |> not\n",
    "\n",
    "let filterGame (game, rounds) = \n",
    "    rounds \n",
    "    |> Seq.filter (filterRound 12 13 14)\n",
    "    |> Seq.isEmpty\n",
    "\n",
    "example01.Split(\"\\n\")\n",
    "|> Seq.map parse\n",
    "|> Seq.filter filterGame\n",
    "|> Seq.sumBy fst"
   ]
  },
  {
   "cell_type": "code",
   "execution_count": 62,
   "metadata": {
    "dotnet_interactive": {
     "language": "fsharp"
    },
    "polyglot_notebook": {
     "kernelName": "fsharp"
    },
    "vscode": {
     "languageId": "polyglot-notebook"
    }
   },
   "outputs": [
    {
     "data": {
      "text/html": [
       "<div class=\"dni-plaintext\"><pre>2551</pre></div><style>\r\n",
       ".dni-code-hint {\r\n",
       "    font-style: italic;\r\n",
       "    overflow: hidden;\r\n",
       "    white-space: nowrap;\r\n",
       "}\r\n",
       ".dni-treeview {\r\n",
       "    white-space: nowrap;\r\n",
       "}\r\n",
       ".dni-treeview td {\r\n",
       "    vertical-align: top;\r\n",
       "    text-align: start;\r\n",
       "}\r\n",
       "details.dni-treeview {\r\n",
       "    padding-left: 1em;\r\n",
       "}\r\n",
       "table td {\r\n",
       "    text-align: start;\r\n",
       "}\r\n",
       "table tr { \r\n",
       "    vertical-align: top; \r\n",
       "    margin: 0em 0px;\r\n",
       "}\r\n",
       "table tr td pre \r\n",
       "{ \r\n",
       "    vertical-align: top !important; \r\n",
       "    margin: 0em 0px !important;\r\n",
       "} \r\n",
       "table th {\r\n",
       "    text-align: start;\r\n",
       "}\r\n",
       "</style>"
      ]
     },
     "metadata": {},
     "output_type": "display_data"
    }
   ],
   "source": [
    "let ResolutionFolder = __SOURCE_DIRECTORY__\n",
    "File.ReadAllText(ResolutionFolder + \"/input01.txt\").Split(\"\\n\")\n",
    "|> Seq.map parse\n",
    "|> Seq.filter filterGame\n",
    "|> Seq.sumBy fst"
   ]
  },
  {
   "cell_type": "code",
   "execution_count": 77,
   "metadata": {
    "dotnet_interactive": {
     "language": "fsharp"
    },
    "polyglot_notebook": {
     "kernelName": "fsharp"
    },
    "vscode": {
     "languageId": "polyglot-notebook"
    }
   },
   "outputs": [
    {
     "data": {
      "text/html": [
       "<div class=\"dni-plaintext\"><pre>2286</pre></div><style>\r\n",
       ".dni-code-hint {\r\n",
       "    font-style: italic;\r\n",
       "    overflow: hidden;\r\n",
       "    white-space: nowrap;\r\n",
       "}\r\n",
       ".dni-treeview {\r\n",
       "    white-space: nowrap;\r\n",
       "}\r\n",
       ".dni-treeview td {\r\n",
       "    vertical-align: top;\r\n",
       "    text-align: start;\r\n",
       "}\r\n",
       "details.dni-treeview {\r\n",
       "    padding-left: 1em;\r\n",
       "}\r\n",
       "table td {\r\n",
       "    text-align: start;\r\n",
       "}\r\n",
       "table tr { \r\n",
       "    vertical-align: top; \r\n",
       "    margin: 0em 0px;\r\n",
       "}\r\n",
       "table tr td pre \r\n",
       "{ \r\n",
       "    vertical-align: top !important; \r\n",
       "    margin: 0em 0px !important;\r\n",
       "} \r\n",
       "table th {\r\n",
       "    text-align: start;\r\n",
       "}\r\n",
       "</style>"
      ]
     },
     "metadata": {},
     "output_type": "display_data"
    }
   ],
   "source": [
    "#!share --from value example01\n",
    "let mapColor rounds =\n",
    "    rounds\n",
    "    |> Seq.fold (fun (r,g,b) round -> \n",
    "        match round with\n",
    "        | count, \"red\" -> (count, g, b) \n",
    "        | count, \"green\" -> (r, count, b)\n",
    "        | count, \"blue\" ->(r, g, count)\n",
    "        | _ -> (r,g,b)\n",
    "    ) (0,0,0)\n",
    "\n",
    "let foldMax (rounds:(int*int*int) seq) =\n",
    "    rounds\n",
    "    |> Seq.reduce (fun (r,g,b) (x,y,z) -> Math.Max(r,x), Math.Max(g,y), Math.Max(b,z))\n",
    "\n",
    "let power (r, g, b) = r * g * b\n",
    "\n",
    "example01.Split(\"\\n\")\n",
    "|> Seq.map parse\n",
    "|> Seq.map snd\n",
    "|> Seq.map ( Seq.map mapColor )\n",
    "|> Seq.map foldMax\n",
    "|> Seq.map power\n",
    "|> Seq.sum\n"
   ]
  },
  {
   "cell_type": "code",
   "execution_count": null,
   "metadata": {
    "dotnet_interactive": {
     "language": "fsharp"
    },
    "polyglot_notebook": {
     "kernelName": "fsharp"
    },
    "vscode": {
     "languageId": "polyglot-notebook"
    }
   },
   "outputs": [],
   "source": [
    "let ResolutionFolder = __SOURCE_DIRECTORY__\n",
    "File.ReadAllText(ResolutionFolder + \"/input01.txt\").Split(\"\\n\")\n",
    "|> Seq.map parse\n",
    "|> Seq.map snd\n",
    "|> Seq.map ( Seq.map mapColor )\n",
    "|> Seq.map foldMax\n",
    "|> Seq.map power\n",
    "|> Seq.sum"
   ]
  }
 ],
 "metadata": {
  "language_info": {
   "name": "csharp"
  }
 },
 "nbformat": 4,
 "nbformat_minor": 2
}
