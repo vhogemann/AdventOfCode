{
 "cells": [
  {
   "cell_type": "code",
   "execution_count": 71,
   "metadata": {
    "dotnet_interactive": {
     "language": "value"
    },
    "polyglot_notebook": {
     "kernelName": "value"
    },
    "vscode": {
     "languageId": "polyglot-notebook"
    }
   },
   "outputs": [],
   "source": [
    "#!value --name example01\n",
    "467..114..\n",
    "...*......\n",
    "..35...633\n",
    "......#...\n",
    "617*......\n",
    ".....+.58.\n",
    "..592.....\n",
    "......755.\n",
    "...$.*....\n",
    ".664..598."
   ]
  },
  {
   "cell_type": "code",
   "execution_count": 87,
   "metadata": {
    "dotnet_interactive": {
     "language": "fsharp"
    },
    "polyglot_notebook": {
     "kernelName": "fsharp"
    },
    "vscode": {
     "languageId": "polyglot-notebook"
    }
   },
   "outputs": [
    {
     "data": {
      "text/html": [
       "<div class=\"dni-plaintext\"><pre>4361</pre></div><style>\r\n",
       ".dni-code-hint {\r\n",
       "    font-style: italic;\r\n",
       "    overflow: hidden;\r\n",
       "    white-space: nowrap;\r\n",
       "}\r\n",
       ".dni-treeview {\r\n",
       "    white-space: nowrap;\r\n",
       "}\r\n",
       ".dni-treeview td {\r\n",
       "    vertical-align: top;\r\n",
       "    text-align: start;\r\n",
       "}\r\n",
       "details.dni-treeview {\r\n",
       "    padding-left: 1em;\r\n",
       "}\r\n",
       "table td {\r\n",
       "    text-align: start;\r\n",
       "}\r\n",
       "table tr { \r\n",
       "    vertical-align: top; \r\n",
       "    margin: 0em 0px;\r\n",
       "}\r\n",
       "table tr td pre \r\n",
       "{ \r\n",
       "    vertical-align: top !important; \r\n",
       "    margin: 0em 0px !important;\r\n",
       "} \r\n",
       "table th {\r\n",
       "    text-align: start;\r\n",
       "}\r\n",
       "</style>"
      ]
     },
     "metadata": {},
     "output_type": "display_data"
    }
   ],
   "source": [
    "#!share --from value example01\n",
    "\n",
    "type Part = {\n",
    "    row:int\n",
    "    head:int\n",
    "    tail:int\n",
    "    value:string\n",
    "}\n",
    "module Part =\n",
    "    let create row head value =\n",
    "        { row = row; head = head; tail = head; value = string value }\n",
    "    let add tail value part =\n",
    "        { part with tail = tail; value = part.value + string value }\n",
    "\n",
    "type Symbol = {\n",
    "    value: char\n",
    "    row:int\n",
    "    col:int\n",
    "}\n",
    "\n",
    "type Row = {\n",
    "    col: int\n",
    "    last: Part option\n",
    "    parts: Part seq\n",
    "    symbols: Symbol seq\n",
    "}\n",
    "module Row =\n",
    "    let parse num (row:string) =\n",
    "        let result =\n",
    "            row.Trim().ToCharArray()\n",
    "            |> Seq.fold (fun (state:Row) it ->\n",
    "                match it with\n",
    "                | digit when Char.IsDigit(digit) ->\n",
    "                    { state with \n",
    "                        col = state.col + 1\n",
    "                        last = state.last |> Option.map( Part.add state.col digit ) |> Option.orElse( (Part.create num state.col digit |> Some) )\n",
    "                    }\n",
    "                | '.' -> \n",
    "                    { state with \n",
    "                        col = state.col + 1\n",
    "                        last = None\n",
    "                        parts = match state.last with Some part -> state.parts |> Seq.append [ part ] | None -> state.parts \n",
    "                    }\n",
    "                | symbol -> \n",
    "                    { state  with \n",
    "                        col = state.col + 1\n",
    "                        last = None\n",
    "                        parts = match state.last with Some part -> state.parts |> Seq.append [ part ] | None -> state.parts\n",
    "                        symbols = state.symbols |> Seq.append [ { col = state.col; row = num; value = symbol } ]\n",
    "                    }\n",
    "            ) { col = 0; last = None; parts = Seq.empty; symbols = Seq.empty }\n",
    "        { result with \n",
    "            parts = match result.last with Some part -> result.parts |> Seq.append [ part ] | None -> result.parts } \n",
    "\n",
    "\n",
    "let parse lines =\n",
    "    lines\n",
    "    |> Seq.mapi Row.parse\n",
    "    |> Seq.fold (fun (parts, symbols) row -> \n",
    "        ( parts |> Seq.append row.parts) , ( symbols |> Seq.append row.symbols )\n",
    "    ) (Seq.empty, Seq.empty)\n",
    "\n",
    "let filterValid (parts, symbols) =\n",
    "    symbols\n",
    "    |> Seq.map(fun symbol ->\n",
    "        parts\n",
    "        |> Seq.filter( fun (part:Part) ->\n",
    "            match part with\n",
    "            | { head = h; tail = t; row = r; value = _ } when r = symbol.row ->\n",
    "                h = symbol.col + 1 || t = symbol.col - 1\n",
    "            | { head = h; tail = t; row = r; value = _ } when r = symbol.row + 1 || r = symbol.row - 1 ->\n",
    "                h <= symbol.col + 1 && t >= symbol.col - 1\n",
    "            | _ -> false\n",
    "        )\n",
    "    )\n",
    "    |> Seq.concat\n",
    "\n",
    "example01.Split(\"\\n\") \n",
    "|> parse\n",
    "|> filterValid\n",
    "|> Seq.sumBy (fun part -> int part.value)"
   ]
  },
  {
   "cell_type": "code",
   "execution_count": 88,
   "metadata": {
    "dotnet_interactive": {
     "language": "fsharp"
    },
    "polyglot_notebook": {
     "kernelName": "fsharp"
    },
    "vscode": {
     "languageId": "polyglot-notebook"
    }
   },
   "outputs": [
    {
     "data": {
      "text/html": [
       "<div class=\"dni-plaintext\"><pre>525181</pre></div><style>\r\n",
       ".dni-code-hint {\r\n",
       "    font-style: italic;\r\n",
       "    overflow: hidden;\r\n",
       "    white-space: nowrap;\r\n",
       "}\r\n",
       ".dni-treeview {\r\n",
       "    white-space: nowrap;\r\n",
       "}\r\n",
       ".dni-treeview td {\r\n",
       "    vertical-align: top;\r\n",
       "    text-align: start;\r\n",
       "}\r\n",
       "details.dni-treeview {\r\n",
       "    padding-left: 1em;\r\n",
       "}\r\n",
       "table td {\r\n",
       "    text-align: start;\r\n",
       "}\r\n",
       "table tr { \r\n",
       "    vertical-align: top; \r\n",
       "    margin: 0em 0px;\r\n",
       "}\r\n",
       "table tr td pre \r\n",
       "{ \r\n",
       "    vertical-align: top !important; \r\n",
       "    margin: 0em 0px !important;\r\n",
       "} \r\n",
       "table th {\r\n",
       "    text-align: start;\r\n",
       "}\r\n",
       "</style>"
      ]
     },
     "metadata": {},
     "output_type": "display_data"
    }
   ],
   "source": [
    "let ResolutionFolder = __SOURCE_DIRECTORY__\n",
    "File.ReadAllText(ResolutionFolder + \"/input01.txt\").Split(\"\\n\")\n",
    "|> parse\n",
    "|> filterValid\n",
    "|> Seq.sumBy (fun part -> int part.value)"
   ]
  },
  {
   "cell_type": "code",
   "execution_count": 94,
   "metadata": {
    "dotnet_interactive": {
     "language": "fsharp"
    },
    "polyglot_notebook": {
     "kernelName": "fsharp"
    },
    "vscode": {
     "languageId": "polyglot-notebook"
    }
   },
   "outputs": [
    {
     "data": {
      "text/html": [
       "<div class=\"dni-plaintext\"><pre>467835</pre></div><style>\r\n",
       ".dni-code-hint {\r\n",
       "    font-style: italic;\r\n",
       "    overflow: hidden;\r\n",
       "    white-space: nowrap;\r\n",
       "}\r\n",
       ".dni-treeview {\r\n",
       "    white-space: nowrap;\r\n",
       "}\r\n",
       ".dni-treeview td {\r\n",
       "    vertical-align: top;\r\n",
       "    text-align: start;\r\n",
       "}\r\n",
       "details.dni-treeview {\r\n",
       "    padding-left: 1em;\r\n",
       "}\r\n",
       "table td {\r\n",
       "    text-align: start;\r\n",
       "}\r\n",
       "table tr { \r\n",
       "    vertical-align: top; \r\n",
       "    margin: 0em 0px;\r\n",
       "}\r\n",
       "table tr td pre \r\n",
       "{ \r\n",
       "    vertical-align: top !important; \r\n",
       "    margin: 0em 0px !important;\r\n",
       "} \r\n",
       "table th {\r\n",
       "    text-align: start;\r\n",
       "}\r\n",
       "</style>"
      ]
     },
     "metadata": {},
     "output_type": "display_data"
    }
   ],
   "source": [
    "#!share --from value example01\n",
    "\n",
    "let filterRatios (parts,symbols) =\n",
    "    symbols\n",
    "    |> Seq.filter (fun symbol -> symbol.value = '*')\n",
    "    |> Seq.map(fun symbol ->\n",
    "        parts\n",
    "        |> Seq.filter( fun (part:Part) ->\n",
    "            match part with\n",
    "            | { head = h; tail = t; row = r; value = _ } when r = symbol.row ->\n",
    "                h = symbol.col + 1 || t = symbol.col - 1\n",
    "            | { head = h; tail = t; row = r; value = _ } when r = symbol.row + 1 || r = symbol.row - 1 ->\n",
    "                h <= symbol.col + 1 && t >= symbol.col - 1\n",
    "            | _ -> false\n",
    "        )\n",
    "        |> Seq.map(fun part -> int part.value)\n",
    "    )\n",
    "    |> Seq.filter(fun parts -> (parts |> Seq.length) = 2 )\n",
    "\n",
    "example01.Split(\"\\n\")\n",
    "|> parse\n",
    "|> filterRatios\n",
    "|> Seq.map ( Seq.reduce (*))\n",
    "|> Seq.sum"
   ]
  },
  {
   "cell_type": "code",
   "execution_count": 95,
   "metadata": {
    "dotnet_interactive": {
     "language": "fsharp"
    },
    "polyglot_notebook": {
     "kernelName": "fsharp"
    },
    "vscode": {
     "languageId": "polyglot-notebook"
    }
   },
   "outputs": [
    {
     "data": {
      "text/html": [
       "<div class=\"dni-plaintext\"><pre>84289137</pre></div><style>\r\n",
       ".dni-code-hint {\r\n",
       "    font-style: italic;\r\n",
       "    overflow: hidden;\r\n",
       "    white-space: nowrap;\r\n",
       "}\r\n",
       ".dni-treeview {\r\n",
       "    white-space: nowrap;\r\n",
       "}\r\n",
       ".dni-treeview td {\r\n",
       "    vertical-align: top;\r\n",
       "    text-align: start;\r\n",
       "}\r\n",
       "details.dni-treeview {\r\n",
       "    padding-left: 1em;\r\n",
       "}\r\n",
       "table td {\r\n",
       "    text-align: start;\r\n",
       "}\r\n",
       "table tr { \r\n",
       "    vertical-align: top; \r\n",
       "    margin: 0em 0px;\r\n",
       "}\r\n",
       "table tr td pre \r\n",
       "{ \r\n",
       "    vertical-align: top !important; \r\n",
       "    margin: 0em 0px !important;\r\n",
       "} \r\n",
       "table th {\r\n",
       "    text-align: start;\r\n",
       "}\r\n",
       "</style>"
      ]
     },
     "metadata": {},
     "output_type": "display_data"
    }
   ],
   "source": [
    "let ResolutionFolder = __SOURCE_DIRECTORY__\n",
    "File.ReadAllText(ResolutionFolder + \"/input01.txt\").Split(\"\\n\")\n",
    "|> parse\n",
    "|> filterRatios\n",
    "|> Seq.map ( Seq.reduce (*))\n",
    "|> Seq.sum"
   ]
  }
 ],
 "metadata": {
  "language_info": {
   "name": "csharp"
  }
 },
 "nbformat": 4,
 "nbformat_minor": 2
}
