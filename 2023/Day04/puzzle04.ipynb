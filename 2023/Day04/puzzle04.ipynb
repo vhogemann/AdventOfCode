{
 "cells": [
  {
   "cell_type": "code",
   "execution_count": 144,
   "metadata": {
    "dotnet_interactive": {
     "language": "value"
    },
    "polyglot_notebook": {
     "kernelName": "value"
    },
    "vscode": {
     "languageId": "polyglot-notebook"
    }
   },
   "outputs": [],
   "source": [
    "#!value --name example01\n",
    "Card 1: 41 48 83 86 17 | 83 86  6 31 17  9 48 53\n",
    "Card 2: 13 32 20 16 61 | 61 30 68 82 17 32 24 19\n",
    "Card 3:  1 21 53 59 44 | 69 82 63 72 16 21 14  1\n",
    "Card 4: 41 92 73 84 69 | 59 84 76 51 58  5 54 83\n",
    "Card 5: 87 83 26 28 32 | 88 30 70 12 93 22 82 36\n",
    "Card 6: 31 18 13 56 72 | 74 77 10 23 35 67 36 11"
   ]
  },
  {
   "cell_type": "code",
   "execution_count": 145,
   "metadata": {
    "dotnet_interactive": {
     "language": "fsharp"
    },
    "polyglot_notebook": {
     "kernelName": "fsharp"
    },
    "vscode": {
     "languageId": "polyglot-notebook"
    }
   },
   "outputs": [
    {
     "data": {
      "text/html": [
       "<div class=\"dni-plaintext\"><pre>13</pre></div><style>\r\n",
       ".dni-code-hint {\r\n",
       "    font-style: italic;\r\n",
       "    overflow: hidden;\r\n",
       "    white-space: nowrap;\r\n",
       "}\r\n",
       ".dni-treeview {\r\n",
       "    white-space: nowrap;\r\n",
       "}\r\n",
       ".dni-treeview td {\r\n",
       "    vertical-align: top;\r\n",
       "    text-align: start;\r\n",
       "}\r\n",
       "details.dni-treeview {\r\n",
       "    padding-left: 1em;\r\n",
       "}\r\n",
       "table td {\r\n",
       "    text-align: start;\r\n",
       "}\r\n",
       "table tr { \r\n",
       "    vertical-align: top; \r\n",
       "    margin: 0em 0px;\r\n",
       "}\r\n",
       "table tr td pre \r\n",
       "{ \r\n",
       "    vertical-align: top !important; \r\n",
       "    margin: 0em 0px !important;\r\n",
       "} \r\n",
       "table th {\r\n",
       "    text-align: start;\r\n",
       "}\r\n",
       "</style>"
      ]
     },
     "metadata": {},
     "output_type": "display_data"
    }
   ],
   "source": [
    "#!share --from value example01\n",
    "\n",
    "open System.Text.RegularExpressions\n",
    "\n",
    "let splitter = Regex(@\"\\s+\").Split\n",
    "\n",
    "type Card = {\n",
    "    no: int\n",
    "    winning: float seq\n",
    "    numbers: float seq\n",
    "}\n",
    "module Card =\n",
    "    let wins (card:Card) =\n",
    "        card.winning |> Set.ofSeq\n",
    "        |> Set.intersect (card.numbers |> Set.ofSeq)\n",
    "        |> Set.count\n",
    "\n",
    "    let points (card:Card) =\n",
    "        card\n",
    "        |> wins\n",
    "        |> (fun it -> \n",
    "            let result = 2.0 ** (float it - 1.0)\n",
    "            if result >= 1.0 then result else 0.0   \n",
    "        )\n",
    "        \n",
    "let parseNums (nums:string) =\n",
    "    nums\n",
    "    |> splitter\n",
    "    |> Seq.filter(String.IsNullOrEmpty >> not )\n",
    "    |> Seq.map _.Trim()\n",
    "    |> Seq.map float\n",
    "\n",
    "let parseLine (line:string) =\n",
    "    let parts = line.Split(\": \")\n",
    "    let game = (splitter parts.[0]).[1].Trim() |> int\n",
    "    let nums = parts.[1].Split(\" | \")\n",
    "    let winning = nums.[0] |> parseNums\n",
    "    let numbers = nums.[1] |> parseNums\n",
    "    { no = game; winning = winning; numbers = numbers }\n",
    "\n",
    "let part1 = Seq.map parseLine >> Seq.map Card.points >> Seq.sum\n",
    "\n",
    "example01.Split(\"\\n\")\n",
    "|> part1"
   ]
  },
  {
   "cell_type": "code",
   "execution_count": 5,
   "metadata": {
    "dotnet_interactive": {
     "language": "fsharp"
    },
    "polyglot_notebook": {
     "kernelName": "fsharp"
    },
    "vscode": {
     "languageId": "polyglot-notebook"
    }
   },
   "outputs": [
    {
     "data": {
      "text/html": [
       "<div class=\"dni-plaintext\"><pre>26218</pre></div><style>\r\n",
       ".dni-code-hint {\r\n",
       "    font-style: italic;\r\n",
       "    overflow: hidden;\r\n",
       "    white-space: nowrap;\r\n",
       "}\r\n",
       ".dni-treeview {\r\n",
       "    white-space: nowrap;\r\n",
       "}\r\n",
       ".dni-treeview td {\r\n",
       "    vertical-align: top;\r\n",
       "    text-align: start;\r\n",
       "}\r\n",
       "details.dni-treeview {\r\n",
       "    padding-left: 1em;\r\n",
       "}\r\n",
       "table td {\r\n",
       "    text-align: start;\r\n",
       "}\r\n",
       "table tr { \r\n",
       "    vertical-align: top; \r\n",
       "    margin: 0em 0px;\r\n",
       "}\r\n",
       "table tr td pre \r\n",
       "{ \r\n",
       "    vertical-align: top !important; \r\n",
       "    margin: 0em 0px !important;\r\n",
       "} \r\n",
       "table th {\r\n",
       "    text-align: start;\r\n",
       "}\r\n",
       "</style>"
      ]
     },
     "metadata": {},
     "output_type": "display_data"
    }
   ],
   "source": [
    "File.ReadAllText(__SOURCE_DIRECTORY__ + \"/input01.txt\").Split(\"\\n\")\n",
    "|> part1"
   ]
  },
  {
   "cell_type": "code",
   "execution_count": 163,
   "metadata": {
    "dotnet_interactive": {
     "language": "fsharp"
    },
    "polyglot_notebook": {
     "kernelName": "fsharp"
    },
    "vscode": {
     "languageId": "polyglot-notebook"
    }
   },
   "outputs": [],
   "source": [
    "module Card =\n",
    "    let score cards = \n",
    "        let rec score acc cards =\n",
    "            match cards with\n",
    "            | [] -> acc\n",
    "            | (idx, won) :: tail ->\n",
    "                let copies =\n",
    "                    acc |> Map.tryFind idx\n",
    "                    |> Option.defaultValue 1\n",
    "                let acc =\n",
    "                    tail\n",
    "                    |> List.take (int won)\n",
    "                    |> Seq.fold (fun state (idx,_) ->\n",
    "                        state\n",
    "                        |> Map.change idx (fun it ->\n",
    "                            match it with \n",
    "                            | Some number -> Some (number + copies)\n",
    "                            | None -> Some copies\n",
    "                        )\n",
    "                    ) acc\n",
    "                score acc tail\n",
    "        \n",
    "        let acc =\n",
    "            cards\n",
    "            |> Seq.mapi(fun idx _ -> idx)\n",
    "            |> Seq.fold(fun map idx -> map |> Map.add idx 1 ) Map.empty\n",
    "        \n",
    "        cards\n",
    "        |> List.mapi (fun idx it -> idx, it)\n",
    "        |> score acc\n",
    "        |> Map.values\n",
    "        |> Seq.sum"
   ]
  },
  {
   "cell_type": "code",
   "execution_count": 164,
   "metadata": {
    "dotnet_interactive": {
     "language": "fsharp"
    },
    "polyglot_notebook": {
     "kernelName": "fsharp"
    },
    "vscode": {
     "languageId": "polyglot-notebook"
    }
   },
   "outputs": [
    {
     "data": {
      "text/html": [
       "<div class=\"dni-plaintext\"><pre>30</pre></div><style>\r\n",
       ".dni-code-hint {\r\n",
       "    font-style: italic;\r\n",
       "    overflow: hidden;\r\n",
       "    white-space: nowrap;\r\n",
       "}\r\n",
       ".dni-treeview {\r\n",
       "    white-space: nowrap;\r\n",
       "}\r\n",
       ".dni-treeview td {\r\n",
       "    vertical-align: top;\r\n",
       "    text-align: start;\r\n",
       "}\r\n",
       "details.dni-treeview {\r\n",
       "    padding-left: 1em;\r\n",
       "}\r\n",
       "table td {\r\n",
       "    text-align: start;\r\n",
       "}\r\n",
       "table tr { \r\n",
       "    vertical-align: top; \r\n",
       "    margin: 0em 0px;\r\n",
       "}\r\n",
       "table tr td pre \r\n",
       "{ \r\n",
       "    vertical-align: top !important; \r\n",
       "    margin: 0em 0px !important;\r\n",
       "} \r\n",
       "table th {\r\n",
       "    text-align: start;\r\n",
       "}\r\n",
       "</style>"
      ]
     },
     "metadata": {},
     "output_type": "display_data"
    }
   ],
   "source": [
    "example01.Split(\"\\n\")\n",
    "|> Seq.map parseLine\n",
    "|> Seq.map Card.wins\n",
    "|> List.ofSeq\n",
    "|> Card.score"
   ]
  },
  {
   "cell_type": "code",
   "execution_count": 165,
   "metadata": {
    "dotnet_interactive": {
     "language": "fsharp"
    },
    "polyglot_notebook": {
     "kernelName": "fsharp"
    },
    "vscode": {
     "languageId": "polyglot-notebook"
    }
   },
   "outputs": [
    {
     "data": {
      "text/html": [
       "<div class=\"dni-plaintext\"><pre>9997537</pre></div><style>\r\n",
       ".dni-code-hint {\r\n",
       "    font-style: italic;\r\n",
       "    overflow: hidden;\r\n",
       "    white-space: nowrap;\r\n",
       "}\r\n",
       ".dni-treeview {\r\n",
       "    white-space: nowrap;\r\n",
       "}\r\n",
       ".dni-treeview td {\r\n",
       "    vertical-align: top;\r\n",
       "    text-align: start;\r\n",
       "}\r\n",
       "details.dni-treeview {\r\n",
       "    padding-left: 1em;\r\n",
       "}\r\n",
       "table td {\r\n",
       "    text-align: start;\r\n",
       "}\r\n",
       "table tr { \r\n",
       "    vertical-align: top; \r\n",
       "    margin: 0em 0px;\r\n",
       "}\r\n",
       "table tr td pre \r\n",
       "{ \r\n",
       "    vertical-align: top !important; \r\n",
       "    margin: 0em 0px !important;\r\n",
       "} \r\n",
       "table th {\r\n",
       "    text-align: start;\r\n",
       "}\r\n",
       "</style>"
      ]
     },
     "metadata": {},
     "output_type": "display_data"
    }
   ],
   "source": [
    "File.ReadAllText(__SOURCE_DIRECTORY__ + \"/input01.txt\").Split(\"\\n\")\n",
    "|> Seq.map parseLine\n",
    "|> Seq.map Card.wins\n",
    "|> List.ofSeq\n",
    "|> Card.score"
   ]
  }
 ],
 "metadata": {
  "language_info": {
   "name": "csharp"
  }
 },
 "nbformat": 4,
 "nbformat_minor": 2
}
