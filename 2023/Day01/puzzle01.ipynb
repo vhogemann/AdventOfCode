{
 "cells": [
  {
   "cell_type": "code",
   "execution_count": 35,
   "metadata": {
    "dotnet_interactive": {
     "language": "fsharp"
    },
    "polyglot_notebook": {
     "kernelName": "fsharp"
    },
    "vscode": {
     "languageId": "polyglot-notebook"
    }
   },
   "outputs": [
    {
     "data": {
      "text/html": [
       "<div class=\"dni-plaintext\"><pre>53986</pre></div><style>\r\n",
       ".dni-code-hint {\r\n",
       "    font-style: italic;\r\n",
       "    overflow: hidden;\r\n",
       "    white-space: nowrap;\r\n",
       "}\r\n",
       ".dni-treeview {\r\n",
       "    white-space: nowrap;\r\n",
       "}\r\n",
       ".dni-treeview td {\r\n",
       "    vertical-align: top;\r\n",
       "    text-align: start;\r\n",
       "}\r\n",
       "details.dni-treeview {\r\n",
       "    padding-left: 1em;\r\n",
       "}\r\n",
       "table td {\r\n",
       "    text-align: start;\r\n",
       "}\r\n",
       "table tr { \r\n",
       "    vertical-align: top; \r\n",
       "    margin: 0em 0px;\r\n",
       "}\r\n",
       "table tr td pre \r\n",
       "{ \r\n",
       "    vertical-align: top !important; \r\n",
       "    margin: 0em 0px !important;\r\n",
       "} \r\n",
       "table th {\r\n",
       "    text-align: start;\r\n",
       "}\r\n",
       "</style>"
      ]
     },
     "metadata": {},
     "output_type": "display_data"
    }
   ],
   "source": [
    "let ResolutionFolder = __SOURCE_DIRECTORY__\n",
    "\n",
    "File.ReadAllText(ResolutionFolder + \"/input01.txt\").Split(\"\\n\")\n",
    "|> Seq.map (fun it -> \n",
    "    it.ToCharArray()\n",
    "    |> Seq.filter ( fun it -> \"1234567890\".Contains(it))\n",
    ")\n",
    "|> Seq.map (fun it -> \n",
    "    int $\"{it |> Seq.head}{it |> Seq.last}\"\n",
    ")\n",
    "|> Seq.sum"
   ]
  },
  {
   "cell_type": "code",
   "execution_count": 60,
   "metadata": {
    "dotnet_interactive": {
     "language": "fsharp"
    },
    "polyglot_notebook": {
     "kernelName": "fsharp"
    },
    "vscode": {
     "languageId": "polyglot-notebook"
    }
   },
   "outputs": [
    {
     "data": {
      "text/html": [
       "<div class=\"dni-plaintext\"><pre>281</pre></div><style>\r\n",
       ".dni-code-hint {\r\n",
       "    font-style: italic;\r\n",
       "    overflow: hidden;\r\n",
       "    white-space: nowrap;\r\n",
       "}\r\n",
       ".dni-treeview {\r\n",
       "    white-space: nowrap;\r\n",
       "}\r\n",
       ".dni-treeview td {\r\n",
       "    vertical-align: top;\r\n",
       "    text-align: start;\r\n",
       "}\r\n",
       "details.dni-treeview {\r\n",
       "    padding-left: 1em;\r\n",
       "}\r\n",
       "table td {\r\n",
       "    text-align: start;\r\n",
       "}\r\n",
       "table tr { \r\n",
       "    vertical-align: top; \r\n",
       "    margin: 0em 0px;\r\n",
       "}\r\n",
       "table tr td pre \r\n",
       "{ \r\n",
       "    vertical-align: top !important; \r\n",
       "    margin: 0em 0px !important;\r\n",
       "} \r\n",
       "table th {\r\n",
       "    text-align: start;\r\n",
       "}\r\n",
       "</style>"
      ]
     },
     "metadata": {},
     "output_type": "display_data"
    }
   ],
   "source": [
    "let ResolutionFolder = __SOURCE_DIRECTORY__\n",
    "\n",
    "let parse (line:string) =\n",
    "    let rec parse line word tens units =\n",
    "\n",
    "        let recurse l w n =\n",
    "            parse l w (tens |> Option.orElse (Some n)) (Some n)\n",
    "\n",
    "        match line with\n",
    "        | [] ->\n",
    "            match tens, units with\n",
    "            | Some tens, Some units -> tens * 10 + units\n",
    "            | _ -> -1\n",
    "        | head :: tail ->\n",
    "            match (Int32.TryParse($\"{head}\")) with\n",
    "            | true, number -> recurse tail \"\" number\n",
    "            | false, _ ->\n",
    "                match $\"{word}{head}\" with\n",
    "                | word when word.Contains \"one\" -> recurse tail \"e\" 1\n",
    "                | word when word.Contains \"two\" -> recurse tail \"o\" 2\n",
    "                | word when word.Contains \"three\" -> recurse tail \"e\" 3\n",
    "                | word when word.Contains \"four\" -> recurse tail \"\" 4\n",
    "                | word when word.Contains \"five\" -> recurse tail \"e\" 5\n",
    "                | word when word.Contains \"six\" -> recurse tail \"\" 6\n",
    "                | word when word.Contains \"seven\" -> recurse tail \"n\" 7\n",
    "                | word when word.Contains \"eight\" -> recurse tail \"t\" 8\n",
    "                | word when word.Contains \"nine\" -> recurse tail \"e\" 9\n",
    "                | word -> parse tail word tens units\n",
    "    \n",
    "    let values = line.ToCharArray() |> Array.map string |> Array.toList\n",
    "    \n",
    "    parse values \"\" None None\n",
    "\n",
    "// 29, 83, 13, 24, 42, 14, and 76.\n",
    "\n",
    "File.ReadAllText(ResolutionFolder + \"/input01.txt\").Split(\"\\n\")\n",
    "|> Seq.map parse\n",
    "|> Seq.sum"
   ]
  },
  {
   "cell_type": "code",
   "execution_count": null,
   "metadata": {
    "dotnet_interactive": {
     "language": "fsharp"
    },
    "polyglot_notebook": {
     "kernelName": "fsharp"
    },
    "vscode": {
     "languageId": "polyglot-notebook"
    }
   },
   "outputs": [],
   "source": []
  }
 ],
 "metadata": {
  "language_info": {
   "name": "csharp"
  }
 },
 "nbformat": 4,
 "nbformat_minor": 2
}
