{
 "cells": [
  {
   "cell_type": "code",
   "execution_count": 37,
   "metadata": {
    "dotnet_interactive": {
     "language": "fsharp"
    },
    "polyglot_notebook": {
     "kernelName": "fsharp"
    }
   },
   "outputs": [],
   "source": [
    "type Action =\n",
    "| WalkTo of string\n",
    "| Open of string\n",
    "\n",
    "type Graph = { \n",
    "    nodes: Map<string, Action seq>\n",
    "    flow: Map<string,int>\n",
    "}\n",
    "module Graph =\n",
    "    module Parser =\n",
    "        open System.Text.RegularExpressions\n",
    "\n",
    "        let regex = Regex(@\"^Valve (?<valve>\\w.) has flow rate=(?<flow>\\d+); tunnels? leads? to valves? (?<valves>(?:\\w.)(:?,\\s\\w.)*)$\")\n",
    "\n",
    "        let folder graph line : Graph =\n",
    "            let m = regex.Match(line)\n",
    "\n",
    "            let label = m.Groups.[\"valve\"].Value\n",
    "            let flow = m.Groups.[\"flow\"].Value |> int\n",
    "            let valves = \n",
    "                m.Groups.[\"valves\"].Value.Split(\", \")\n",
    "                |> Seq.map Action.WalkTo\n",
    "                |> Seq.append [ Action.Open label ]\n",
    "\n",
    "            { graph with \n",
    "                nodes = graph.nodes |> Map.add label valves\n",
    "                flow = graph.flow |> Map.add label flow\n",
    "            }\n",
    "\n",
    "        let parse lines =\n",
    "            lines |> Seq.fold folder { nodes = Map.empty; flow = Map.empty }\n",
    "\n",
    "    let flow graph action =\n",
    "        let label = match action with WalkTo w -> w | Open o -> o\n",
    "        graph.flow |> Map.find label\n",
    "\n",
    "    let neighbours graph action =\n",
    "        let label = match action with WalkTo w -> w | Open o -> o\n",
    "        graph.nodes \n",
    "        |> Map.find label\n",
    "    "
   ]
  },
  {
   "cell_type": "code",
   "execution_count": 7,
   "metadata": {
    "dotnet_interactive": {
     "language": "fsharp"
    },
    "polyglot_notebook": {
     "kernelName": "fsharp"
    }
   },
   "outputs": [],
   "source": [
    "let ResolutionFolder = __SOURCE_DIRECTORY__\n",
    "let graph =\n",
    "    File.ReadLines( ResolutionFolder + \"/testcase16.txt\")\n",
    "    |> Graph.Parser.parse"
   ]
  },
  {
   "cell_type": "code",
   "execution_count": 38,
   "metadata": {
    "dotnet_interactive": {
     "language": "fsharp"
    },
    "polyglot_notebook": {
     "kernelName": "fsharp"
    }
   },
   "outputs": [],
   "source": [
    "type Simulation = {\n",
    "    graph: Graph\n",
    "    current: Action\n",
    "    released: int\n",
    "    steps: int\n",
    "    closed: Action seq\n",
    "    opened: Action seq\n",
    "} with \n",
    "    member this.FlowRate () =\n",
    "        this.opened\n",
    "        |> Seq.map (Graph.flow this.graph)\n",
    "        |> Seq.sum\n",
    "\n",
    "module Simulation =\n",
    "    let rec step acc state ="
   ]
  }
 ],
 "metadata": {
  "kernelspec": {
   "display_name": ".NET (C#)",
   "language": "C#",
   "name": ".net-csharp"
  },
  "polyglot_notebook": {
   "kernelInfo": {
    "defaultKernelName": "csharp",
    "items": [
     {
      "aliases": [
       "c#",
       "C#"
      ],
      "languageName": "C#",
      "name": "csharp"
     },
     {
      "aliases": [],
      "name": ".NET"
     },
     {
      "aliases": [
       "f#",
       "F#"
      ],
      "languageName": "F#",
      "name": "fsharp"
     },
     {
      "aliases": [],
      "languageName": "HTML",
      "name": "html"
     },
     {
      "aliases": [
       "js"
      ],
      "languageName": "JavaScript",
      "name": "javascript"
     },
     {
      "aliases": [],
      "languageName": "KQL",
      "name": "kql"
     },
     {
      "aliases": [],
      "languageName": "Mermaid",
      "name": "mermaid"
     },
     {
      "aliases": [
       "powershell"
      ],
      "languageName": "PowerShell",
      "name": "pwsh"
     },
     {
      "aliases": [],
      "languageName": "SQL",
      "name": "sql"
     },
     {
      "aliases": [],
      "name": "value"
     },
     {
      "aliases": [
       "frontend"
      ],
      "name": "vscode"
     },
     {
      "aliases": [],
      "name": "webview"
     }
    ]
   }
  }
 },
 "nbformat": 4,
 "nbformat_minor": 2
}
