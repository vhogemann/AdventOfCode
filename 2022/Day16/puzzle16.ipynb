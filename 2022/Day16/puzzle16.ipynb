{
 "cells": [
  {
   "cell_type": "code",
   "execution_count": null,
   "metadata": {
    "dotnet_interactive": {
     "language": "fsharp"
    },
    "polyglot_notebook": {
     "kernelName": "fsharp"
    }
   },
   "outputs": [],
   "source": [
    "type Action =\n",
    "| WalkTo of string\n",
    "| Open of string\n",
    "\n",
    "type Graph = { \n",
    "    nodes: Map<string, Action seq>\n",
    "    flow: Map<string,int>\n",
    "}\n",
    "module Graph =\n",
    "    module Parser =\n",
    "        open System.Text.RegularExpressions\n",
    "\n",
    "        let regex = Regex(@\"^Valve (?<valve>\\w.) has flow rate=(?<flow>\\d+); tunnels? leads? to valves? (?<valves>(?:\\w.)(:?,\\s\\w.)*)$\")\n",
    "\n",
    "        let folder graph line : Graph =\n",
    "            let m = regex.Match(line)\n",
    "\n",
    "            let label = m.Groups.[\"valve\"].Value\n",
    "            let flow = m.Groups.[\"flow\"].Value |> int\n",
    "            let valves = \n",
    "                m.Groups.[\"valves\"].Value.Split(\", \")\n",
    "                |> Seq.map Action.WalkTo\n",
    "                |> Seq.append [ Action.Open label ]\n",
    "\n",
    "            { graph with \n",
    "                nodes = graph.nodes |> Map.add label valves\n",
    "                flow = graph.flow |> Map.add label flow\n",
    "            }\n",
    "\n",
    "        let parse lines =\n",
    "            lines |> Seq.fold folder { nodes = Map.empty; flow = Map.empty }\n",
    "\n",
    "    let flow graph action =\n",
    "        let label = match action with WalkTo w -> w | Open o -> o\n",
    "        graph.flow |> Map.find label\n",
    "\n",
    "    let neighbours graph action =\n",
    "        let label = match action with WalkTo w -> w | Open o -> o\n",
    "        graph.nodes \n",
    "        |> Map.find label\n",
    "    "
   ]
  },
  {
   "cell_type": "code",
   "execution_count": null,
   "metadata": {
    "dotnet_interactive": {
     "language": "fsharp"
    },
    "polyglot_notebook": {
     "kernelName": "fsharp"
    }
   },
   "outputs": [],
   "source": [
    "let ResolutionFolder = __SOURCE_DIRECTORY__\n",
    "let graph =\n",
    "    File.ReadLines( ResolutionFolder + \"/testcase16.txt\")\n",
    "    |> Graph.Parser.parse"
   ]
  },
  {
   "cell_type": "code",
   "execution_count": 7,
   "metadata": {
    "dotnet_interactive": {
     "language": "fsharp"
    },
    "polyglot_notebook": {
     "kernelName": "fsharp"
    }
   },
   "outputs": [],
   "source": [
    "type AStar<'T when 'T :comparison> = {\n",
    "    goal: 'T\n",
    "    current: 'T\n",
    "    openSet: Set<'T>\n",
    "    gScore: Map<'T, int>\n",
    "    fScore: Map<'T, int>\n",
    "    cameFrom: Map<'T,'T>\n",
    "} with\n",
    "    member this.Next() =\n",
    "        match this.openSet |> List.ofSeq with\n",
    "        | [] -> this\n",
    "        | head :: tail ->\n",
    "            { this with\n",
    "                current = head\n",
    "                openSet = tail |> Set.ofList\n",
    "            }\n",
    "\n",
    "type ScoreFun<'T> = 'T -> 'T -> int\n",
    "type NeighbourFun<'T> = 'T -> 'T seq\n",
    "module AStar =\n",
    "    let create start goal (scorer:ScoreFun<_>) (neighbours:NeighbourFun<_>) : AStar<_> =\n",
    "        {\n",
    "            goal = goal\n",
    "            current = start\n",
    "            openSet = Set.empty\n",
    "            gScore = [(start,0)] |> Map.ofList\n",
    "            fScore = [(start, scorer start goal)] |> Map.ofList\n",
    "            cameFrom = Map.empty\n",
    "        }\n",
    "\n",
    "    let next state = \n",
    "        match state.openSet |> List.ofSeq with\n",
    "        | [] -> state\n",
    "        | head :: tail ->\n",
    "            { state with \n",
    "                current = head\n",
    "                openSet = tail |> Set.ofList\n",
    "            }\n",
    "\n",
    "    let rec find (score:ScoreFun<_>) (neighbours:NeighbourFun<_>) state =\n",
    "        if state.goal = state.current then state else\n",
    "        let state = next state\n",
    "\n",
    "        let folder state node =\n",
    "            let tentative = (state.gScore.Item (state.current)) + + (score state.goal node)\n",
    "            let actual = state.gScore.TryFind node |> Option.defaultValue 99999\n",
    "            if tentative < actual then\n",
    "                state\n",
    "            else\n",
    "                state\n",
    "        \n",
    "        state.current\n",
    "        |> neighbours\n",
    "        |> Seq.fold folder state\n",
    "        |> find score neighbours"
   ]
  },
  {
   "cell_type": "code",
   "execution_count": null,
   "metadata": {
    "dotnet_interactive": {
     "language": "fsharp"
    },
    "polyglot_notebook": {
     "kernelName": "fsharp"
    }
   },
   "outputs": [],
   "source": [
    "type Simulation = {\n",
    "    graph: Graph\n",
    "    current: Action\n",
    "    released: int\n",
    "    steps: int\n",
    "    closed: Action seq\n",
    "    opened: Action seq\n",
    "} with \n",
    "    member this.FlowRate () =\n",
    "        this.opened\n",
    "        |> Seq.map (Graph.flow this.graph)\n",
    "        |> Seq.sum\n",
    "\n",
    "module Simulation =\n",
    "    let rec step acc state ="
   ]
  }
 ],
 "metadata": {
  "kernelspec": {
   "display_name": ".NET (C#)",
   "language": "C#",
   "name": ".net-csharp"
  },
  "polyglot_notebook": {
   "kernelInfo": {
    "defaultKernelName": "csharp",
    "items": [
     {
      "aliases": [
       "c#",
       "C#"
      ],
      "languageName": "C#",
      "name": "csharp"
     },
     {
      "aliases": [],
      "name": ".NET"
     },
     {
      "aliases": [
       "f#",
       "F#"
      ],
      "languageName": "F#",
      "name": "fsharp"
     },
     {
      "aliases": [],
      "languageName": "HTML",
      "name": "html"
     },
     {
      "aliases": [
       "js"
      ],
      "languageName": "JavaScript",
      "name": "javascript"
     },
     {
      "aliases": [],
      "languageName": "KQL",
      "name": "kql"
     },
     {
      "aliases": [],
      "languageName": "Mermaid",
      "name": "mermaid"
     },
     {
      "aliases": [
       "powershell"
      ],
      "languageName": "PowerShell",
      "name": "pwsh"
     },
     {
      "aliases": [],
      "languageName": "SQL",
      "name": "sql"
     },
     {
      "aliases": [],
      "name": "value"
     },
     {
      "aliases": [
       "frontend"
      ],
      "name": "vscode"
     },
     {
      "aliases": [],
      "name": "webview"
     }
    ]
   }
  }
 },
 "nbformat": 4,
 "nbformat_minor": 2
}
