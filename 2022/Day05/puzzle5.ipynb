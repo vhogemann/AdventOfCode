{
 "cells": [
  {
   "cell_type": "markdown",
   "metadata": {
    "dotnet_interactive": {
     "language": "csharp"
    },
    "polyglot_notebook": {
     "kernelName": "csharp"
    }
   },
   "source": [
    "--- Day 5: Supply Stacks ---\n",
    "===\n",
    "\n",
    "The expedition can depart as soon as the final supplies have been unloaded from the ships. Supplies are stored in stacks of marked crates, but because the needed supplies are buried under many other crates, the crates need to be rearranged.\n",
    "\n",
    "The ship has a giant cargo crane capable of moving crates between stacks. To ensure none of the crates get crushed or fall over, the crane operator will rearrange them in a series of carefully-planned steps. After the crates are rearranged, the desired crates will be at the top of each stack.\n",
    "\n",
    "The Elves don't want to interrupt the crane operator during this delicate procedure, but they forgot to ask her which crate will end up where, and they want to be ready to unload them as soon as possible so they can embark.\n",
    "\n",
    "They do, however, have a drawing of the starting stacks of crates and the rearrangement procedure (your puzzle input). For example:\n",
    "```\n",
    "    [D]    \n",
    "[N] [C]    \n",
    "[Z] [M] [P]\n",
    " 1   2   3 \n",
    "\n",
    "move 1 from 2 to 1\n",
    "move 3 from 1 to 3\n",
    "move 2 from 2 to 1\n",
    "move 1 from 1 to 2\n",
    "```\n",
    "In this example, there are three stacks of crates. Stack 1 contains two crates: crate Z is on the bottom, and crate N is on top. Stack 2 contains three crates; from bottom to top, they are crates M, C, and D. Finally, stack 3 contains a single crate, P.\n",
    "\n",
    "Then, the rearrangement procedure is given. In each step of the procedure, a quantity of crates is moved from one stack to a different stack. In the first step of the above rearrangement procedure, one crate is moved from stack 2 to stack 1, resulting in this configuration:\n",
    "```\n",
    "[D]        \n",
    "[N] [C]    \n",
    "[Z] [M] [P]\n",
    " 1   2   3 \n",
    "```\n",
    "In the second step, three crates are moved from stack 1 to stack 3. Crates are moved one at a time, so the first crate to be moved (D) ends up below the second and third crates:\n",
    "\n",
    "```\n",
    "        [Z]\n",
    "        [N]\n",
    "    [C] [D]\n",
    "    [M] [P]\n",
    " 1   2   3\n",
    "```\n",
    "\n",
    "Then, both crates are moved from stack 2 to stack 1. Again, because crates are moved one at a time, crate C ends up below crate M:\n",
    "\n",
    "```\n",
    "        [Z]\n",
    "        [N]\n",
    "[M]     [D]\n",
    "[C]     [P]\n",
    " 1   2   3\n",
    "```\n",
    "Finally, one crate is moved from stack 1 to stack 2:\n",
    "\n",
    "```\n",
    "        [Z]\n",
    "        [N]\n",
    "        [D]\n",
    "[C] [M] [P]\n",
    " 1   2   3\n",
    "``` \n",
    "The Elves just need to know which crate will end up on top of each stack; in this example, the top crates are C in stack 1, M in stack 2, and Z in stack 3, so you should combine these together and give the Elves the message CMZ.\n",
    "\n",
    "After the rearrangement procedure completes, what crate ends up on top of each stack?"
   ]
  },
  {
   "cell_type": "code",
   "execution_count": null,
   "metadata": {
    "dotnet_interactive": {
     "language": "fsharp"
    },
    "vscode": {
     "languageId": "polyglot-notebook"
    }
   },
   "outputs": [],
   "source": [
    "open System\n",
    "open System.Collections.Generic\n",
    "open System.IO\n",
    "open System.Text.RegularExpressions\n",
    "\n",
    "let ResolutionFolder = __SOURCE_DIRECTORY__\n",
    "\n",
    "let regexMapper find extract line =\n",
    "    let finder = Regex(find, RegexOptions.Compiled)\n",
    "    let extractor = Regex(extract, RegexOptions.Compiled)\n",
    "    if finder.IsMatch(line) then\n",
    "        seq {\n",
    "            for stack in extractor.Matches(line) do\n",
    "                yield stack.Value\n",
    "        } |> Some\n",
    "    else\n",
    "        None\n",
    "\n",
    "let (|StackLine|_|) = regexMapper @\"\\[\\w\\]\" @\".{3}\\s?\"\n",
    "\n",
    "let (|MoveLine|_|) = regexMapper @\"move \\d{1,2} from \\d to \\d\" @\"\\d{1,2}\"\n",
    "\n",
    "type Line =\n",
    "| Stack of string seq\n",
    "| Move of string seq\n",
    "\n",
    "let mapper =\n",
    "    function\n",
    "    | StackLine line -> line |> Stack |> Some\n",
    "    | MoveLine line -> line |> Move |> Some\n",
    "    | _ -> None\n",
    "\n",
    "type State = Map<string, string list>\n",
    "\n",
    "let stacker (state: State) (line: string seq) =\n",
    "    line\n",
    "    |> Seq.mapi (fun i crate -> string (i + 1), crate.Trim().Replace(\"[\",\"\").Replace(\"]\",\"\"))\n",
    "    |> Seq.filter( fun (_,crate) -> not <| String.IsNullOrWhiteSpace(crate) )\n",
    "    |> Seq.fold (fun (acc:State) (i, crate) -> \n",
    "        acc \n",
    "        |> Map.change i (function\n",
    "                        | Some crates -> Some (crates @ [crate] ) \n",
    "                        | None -> Some [crate])\n",
    "    ) state\n",
    "\n",
    "let rec crateMover9000 origin dest quantity =\n",
    "    match origin with\n",
    "    | [] -> origin,dest\n",
    "    | head :: tail -> \n",
    "        if quantity = 1 then\n",
    "            (tail), ([head] @ dest)\n",
    "        else\n",
    "            crateMover9000 (tail) ([head] @ dest) (quantity - 1)\n",
    "\n",
    "let mover crateMover (state:State) (move: string seq) =\n",
    "    match (move |> List.ofSeq) with\n",
    "    | [quantity; origin; dest] ->\n",
    "        let (o,d) = crateMover (state.Item(origin)) (state.Item(dest)) (int quantity)\n",
    "        state\n",
    "        |> Map.change origin (function Some _ -> Some o | None -> Some o)\n",
    "        |> Map.change dest (function Some _ -> Some d | None -> Some d)\n",
    "    | _ -> state\n",
    "\n",
    "let folder crateMover (state:State) (line:Line) =\n",
    "    match line with\n",
    "    | Stack stack ->\n",
    "        stacker state stack \n",
    "    | Move move ->\n",
    "        mover crateMover state move\n",
    "\n",
    "File.ReadLines(ResolutionFolder + \"/input5.txt\")\n",
    "|> Seq.map mapper\n",
    "|> Seq.choose id\n",
    "|> Seq.fold (folder crateMover9000) Map.empty\n",
    "|> Map.values\n",
    "|> Seq.map Seq.tryHead\n",
    "|> Seq.choose id\n",
    "|> Seq.reduce (+)"
   ]
  },
  {
   "cell_type": "markdown",
   "metadata": {
    "dotnet_interactive": {
     "language": "csharp"
    },
    "polyglot_notebook": {
     "kernelName": "csharp"
    }
   },
   "source": [
    "--- Part Two ---\n",
    "===\n",
    "\n",
    "As you watch the crane operator expertly rearrange the crates, you notice the process isn't following your prediction.\n",
    "\n",
    "Some mud was covering the writing on the side of the crane, and you quickly wipe it away. The crane isn't a CrateMover 9000 - it's a CrateMover 9001.\n",
    "\n",
    "The CrateMover 9001 is notable for many new and exciting features: air conditioning, leather seats, an extra cup holder, and the ability to pick up and move multiple crates at once.\n",
    "\n",
    "Again considering the example above, the crates begin in the same configuration:\n",
    "```\n",
    "    [D]    \n",
    "[N] [C]    \n",
    "[Z] [M] [P]\n",
    " 1   2   3 \n",
    "``` \n",
    "Moving a single crate from stack 2 to stack 1 behaves the same as before:\n",
    "```\n",
    "[D]        \n",
    "[N] [C]    \n",
    "[Z] [M] [P]\n",
    " 1   2   3 \n",
    "```\n",
    "However, the action of moving three crates from stack 1 to stack 3 means that those three moved crates stay in the same order, resulting in this new configuration:\n",
    "```\n",
    "        [D]\n",
    "        [N]\n",
    "    [C] [Z]\n",
    "    [M] [P]\n",
    " 1   2   3\n",
    "```\n",
    "Next, as both crates are moved from stack 2 to stack 1, they retain their order as well:\n",
    "```\n",
    "        [D]\n",
    "        [N]\n",
    "[C]     [Z]\n",
    "[M]     [P]\n",
    " 1   2   3\n",
    "```\n",
    "Finally, a single crate is still moved from stack 1 to stack 2, but now it's crate C that gets moved:\n",
    "```\n",
    "        [D]\n",
    "        [N]\n",
    "        [Z]\n",
    "[M] [C] [P]\n",
    " 1   2   3\n",
    "```\n",
    "In this example, the CrateMover 9001 has put the crates in a totally different order: MCD.\n",
    "\n",
    "Before the rearrangement process finishes, update your simulation so that the Elves know where they should stand to be ready to unload the final supplies. After the rearrangement procedure completes, what crate ends up on top of each stack?"
   ]
  },
  {
   "cell_type": "code",
   "execution_count": null,
   "metadata": {
    "dotnet_interactive": {
     "language": "fsharp"
    },
    "vscode": {
     "languageId": "polyglot-notebook"
    }
   },
   "outputs": [],
   "source": [
    "let crateMover9001 origin dest quantity =\n",
    "    match origin with\n",
    "    | [] -> origin,dest\n",
    "    | head :: tail -> \n",
    "        let crates = origin |> List.take quantity\n",
    "        (origin |> List.skip quantity),(crates @ dest)\n",
    "\n",
    "File.ReadLines(ResolutionFolder + \"/input5.txt\")\n",
    "|> Seq.map mapper\n",
    "|> Seq.choose id\n",
    "|> Seq.fold (folder crateMover9001) Map.empty\n",
    "|> Map.values\n",
    "|> Seq.map Seq.tryHead\n",
    "|> Seq.choose id\n",
    "|> Seq.reduce (+)"
   ]
  }
 ],
 "metadata": {
  "kernelspec": {
   "display_name": ".NET (C#)",
   "language": "C#",
   "name": ".net-csharp"
  },
  "polyglot_notebook": {
   "kernelInfo": {
    "defaultKernelName": "csharp",
    "items": [
     {
      "aliases": [
       "c#",
       "C#"
      ],
      "languageName": "C#",
      "name": "csharp"
     },
     {
      "aliases": [],
      "languageName": "Mermaid",
      "name": "mermaid"
     },
     {
      "aliases": [],
      "name": ".NET"
     },
     {
      "aliases": [
       "f#",
       "F#"
      ],
      "languageName": "F#",
      "name": "fsharp"
     },
     {
      "aliases": [],
      "languageName": "HTML",
      "name": "html"
     },
     {
      "aliases": [],
      "languageName": "KQL",
      "name": "kql"
     },
     {
      "aliases": [
       "powershell"
      ],
      "languageName": "PowerShell",
      "name": "pwsh"
     },
     {
      "aliases": [],
      "languageName": "SQL",
      "name": "sql"
     },
     {
      "aliases": [],
      "name": "value"
     },
     {
      "aliases": [
       "frontend"
      ],
      "name": "vscode"
     }
    ]
   }
  }
 },
 "nbformat": 4,
 "nbformat_minor": 2
}
