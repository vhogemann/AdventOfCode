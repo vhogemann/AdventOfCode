{
 "cells": [
  {
   "cell_type": "code",
   "execution_count": 34,
   "metadata": {
    "dotnet_interactive": {
     "language": "fsharp"
    },
    "polyglot_notebook": {
     "kernelName": "fsharp"
    }
   },
   "outputs": [
    {
     "data": {
      "text/html": [
       "<div><div></div><div></div><div><strong>Installed Packages</strong><ul><li><span>SharpVG, 0.0.16</span></li></ul></div></div>"
      ]
     },
     "metadata": {},
     "output_type": "display_data"
    }
   ],
   "source": [
    "#r \"nuget:SharpVG\"\n",
    "open SharpVG    \n",
    "\n",
    "type Pos = { \n",
    "    x: int \n",
    "    y: int \n",
    "}\n",
    "module Pos = \n",
    "    let rotate90 (pos:Pos):Pos =\n",
    "        { pos with x = (pos.y * -1); y = pos.x}\n",
    "\n",
    "    let rotate270 (pos:Pos):Pos =\n",
    "        { pos with x = pos.y; y = (pos.x * -1) }\n",
    "type Range = {\n",
    "    distance: int\n",
    "    top: Pos\n",
    "    bottom: Pos\n",
    "    left: Pos\n",
    "    right: Pos\n",
    "}\n",
    "module Range =\n",
    "    let rotate r (range:Range) =\n",
    "        { range with\n",
    "            top = r range.left\n",
    "            bottom = r range.right\n",
    "            left = r range.bottom\n",
    "            right = r range.top\n",
    "        }\n",
    "type Sensor = { \n",
    "    pos: Pos\n",
    "    beacon: Pos\n",
    "    range: Range\n",
    "}\n",
    "module Sensor =\n",
    "    open System.Text.RegularExpressions\n",
    "\n",
    "    let rotate r (sensor:Sensor) =\n",
    "        { sensor with \n",
    "            pos = r sensor.pos\n",
    "            beacon = r sensor.beacon\n",
    "            range = Range.rotate r sensor.range\n",
    "        }\n",
    "\n",
    "    let regex = \n",
    "        Regex(\"Sensor at x=(?<sx>-?\\d+), y=(?<sy>-?\\d+): closest beacon is at x=(?<bx>-?\\d+), y=(?<by>-?\\d+)\")\n",
    "\n",
    "    let range (sensor:Pos) (beacon: Pos) =\n",
    "        let distance =\n",
    "            Math.Abs(sensor.x - beacon.x) +\n",
    "            Math.Abs(sensor.y - beacon.y)\n",
    "\n",
    "        let top = { sensor with y = sensor.y - distance }\n",
    "        let bottom = { sensor with y = sensor.y + distance }\n",
    "        let left = { sensor with x = sensor.x - distance }\n",
    "        let right = { sensor with x = sensor.x + distance }\n",
    "        \n",
    "        top, bottom, left, right, distance\n",
    "\n",
    "    let parse line =\n",
    "        regex.Matches(line)\n",
    "        |> Seq.map (fun m -> \n",
    "            let sx = m.Groups.[\"sx\"].Value |> int\n",
    "            let sy = m.Groups.[\"sy\"].Value |> int\n",
    "            let bx = m.Groups.[\"bx\"].Value |> int\n",
    "            let by = m.Groups.[\"by\"].Value |> int\n",
    "            let sensor = { x = sx; y = sy } \n",
    "            let beacon = { x = bx; y = by } \n",
    "            let top, bottom, left, right, distance = range sensor beacon\n",
    "            { \n",
    "                pos = sensor\n",
    "                beacon = beacon\n",
    "                range = { \n",
    "                    top = top\n",
    "                    left = left\n",
    "                    bottom = bottom\n",
    "                    right = right\n",
    "                    distance = distance \n",
    "                } \n",
    "            }\n",
    "        )\n",
    "        |> Seq.head\n",
    "    \n",
    "    let beaconsAt line (sensors:Sensor seq) =\n",
    "        sensors\n",
    "        |> Seq.filter (fun it -> it.beacon.y = line )\n",
    "        |> Seq.map (fun it -> it.beacon)\n",
    "        |> Set.ofSeq\n",
    "        |> Seq.length\n",
    "\n",
    "type Slice =\n",
    "| Start of int\n",
    "| End of int\n",
    "module Slice =\n",
    "    let intersect line sensors =\n",
    "        let merge slices (sa:Slice, ea:Slice) =\n",
    "            [ sa; ea ]\n",
    "            |> Seq.append slices\n",
    "\n",
    "        let downFun (pos:Pos) =\n",
    "            let b = pos.y - pos.x\n",
    "            fun x -> x - b\n",
    "\n",
    "        let riseFun (pos:Pos) =\n",
    "            let b = pos.y + pos.x\n",
    "            fun x -> b - x\n",
    "\n",
    "        let i_aux line (sensor:Sensor) =\n",
    "            if line >= sensor.range.top.y && line < sensor.pos.y then \n",
    "                let s = (riseFun sensor.range.top) line\n",
    "                let e = (downFun sensor.range.top) line\n",
    "                Some (Start s, End e)\n",
    "            elif line >= sensor.pos.y && line <= sensor.range.bottom.y then\n",
    "                let s = (downFun sensor.range.bottom) line\n",
    "                let e = (riseFun sensor.range.bottom) line\n",
    "                Some (Start s, End e)\n",
    "            else\n",
    "                None\n",
    "\n",
    "        let compact slices =\n",
    "            let rec c_aux stack acc slices =\n",
    "                match slices with \n",
    "                | [] -> acc\n",
    "                | head :: tail ->\n",
    "                    match head with\n",
    "                    | Start s when stack = 0 -> c_aux (stack + 1) ([head] |> Seq.append acc) tail\n",
    "                    | Start _ -> c_aux (stack + 1) acc tail\n",
    "                    | End e when stack = 1 -> c_aux 0 ([head] |> Seq.append acc) tail\n",
    "                    | End _ -> c_aux (stack - 1) acc tail\n",
    "            c_aux 0 List.empty (slices |> List.ofSeq)\n",
    "\n",
    "        sensors\n",
    "        |> Seq.map (i_aux line)\n",
    "        |> Seq.choose id\n",
    "        |> Seq.fold merge Seq.empty\n",
    "        |> Seq.sortBy (fun it -> match it with Start s -> s | End e -> e )\n",
    "        |> compact\n",
    "\n",
    "    let gaps (slices:Slice seq) = \n",
    "        slices\n",
    "        |> Seq.map(fun it -> match it with Slice.Start s -> s | Slice.End e -> e)\n",
    "        |> Seq.chunkBySize 2\n",
    "        |> Seq.pairwise\n",
    "        |> Seq.map(fun (a,b) -> b.[0] - a.[1])\n",
    "        |> Seq.filter(fun it -> it > 1 )\n",
    "    \n",
    "    let findGap (range:int seq) (sensors:Sensor seq) =\n",
    "        range\n",
    "        |> Seq.map (fun line -> async { return sensors |> intersect line |> gaps } )\n",
    "        |> Async.Parallel\n",
    "        |> Async.RunSynchronously\n",
    "        |> Seq.tryFindIndex (Seq.isEmpty >> not)\n",
    "    \n",
    "    let sum slices =\n",
    "        let rec s_aux slices acc =\n",
    "            match slices with\n",
    "            | [] -> acc\n",
    "            | head :: tail ->\n",
    "                match head with \n",
    "                | Start s -> s_aux tail (acc - s)\n",
    "                | End e -> s_aux tail (acc + e)\n",
    "        s_aux (slices|>List.ofSeq) 0"
   ]
  },
  {
   "cell_type": "code",
   "execution_count": 40,
   "metadata": {
    "dotnet_interactive": {
     "language": "fsharp"
    },
    "polyglot_notebook": {
     "kernelName": "fsharp"
    }
   },
   "outputs": [],
   "source": [
    "module Preview =\n",
    "    open SharpVG    \n",
    "    \n",
    "    let showSvg svg = display(HTML(Svg.toString svg))\n",
    "\n",
    "    let point (p:Pos) = (p.x ,p.y ) |> Point.ofInts\n",
    "\n",
    "    let dimensions (sensors:Sensor seq) =\n",
    "        let pt p =  (p.x ,p.y)\n",
    "        let points =\n",
    "            sensors\n",
    "            |> Seq.map (fun it -> seq { \n",
    "                yield pt it.pos\n",
    "                yield pt it.beacon\n",
    "                yield pt it.range.top  \n",
    "                yield pt it.range.bottom  \n",
    "                yield pt it.range.left  \n",
    "                yield pt it.range.right\n",
    "            })\n",
    "            |> Seq.concat\n",
    "        let top, bottom =\n",
    "            let lines = points |> Seq.map snd |> Seq.sort\n",
    "            lines |> Seq.head, lines |> Seq.last\n",
    "        let left, right =\n",
    "            let columns = points |> Seq.map fst |> Seq.sort\n",
    "            columns |> Seq.head, columns |> Seq.last\n",
    "\n",
    "        (Point.ofInts(left, top)), (Point.ofInts(right, bottom))\n",
    "\n",
    "    let sensor (s:Sensor) =\n",
    "        let centre = point s.pos\n",
    "        let style = Style.create (Name Colors.Blue) (Name Colors.Blue) (Length.ofInt 0) 1.0 1.0\n",
    "        let radius = (s.range.distance / 10) + 1\n",
    "        Circle.create centre (Length.ofInt radius)\n",
    "        |> Element.createWithStyle style\n",
    "\n",
    "    let beacon (s:Sensor) =\n",
    "        let centre = point s.beacon\n",
    "        let style = Style.create (Name Colors.Red) (Name Colors.Red) (Length.ofInt 0) 0.5 0.5\n",
    "        let radius = (s.range.distance / 10) + 1\n",
    "        Circle.create centre (Length.ofInt radius)\n",
    "        |> Element.createWithStyle style\n",
    "\n",
    "\n",
    "    let range (s:Sensor) =\n",
    "        let points =\n",
    "            seq {\n",
    "                yield point s.range.top\n",
    "                yield point s.range.left\n",
    "                yield point s.range.bottom \n",
    "                yield point s.range.right          \n",
    "            }\n",
    "        let style = Style.create (Name Colors.Green) (Name Colors.Red) (Length.ofPercent 0.05) 0.25 0.25\n",
    "\n",
    "        points\n",
    "        |> Polygon.ofSeq\n",
    "        |> Element.createWithStyle style\n",
    "    \n",
    "    let plotSensor (s:Sensor) =\n",
    "        seq {\n",
    "            yield sensor s\n",
    "            yield beacon s\n",
    "            yield range s\n",
    "        }\n",
    "\n",
    "    let slices line (s: Slice seq) =\n",
    "        let style = Style.create (Name Colors.Red) (Name Colors.Red) (Length.ofPercent 0.1) 1 1\n",
    "        s \n",
    "        |> List.ofSeq\n",
    "        |> List.map(fun it -> match it with Slice.Start s -> s | Slice.End e -> e )\n",
    "        |> List.chunkBySize 2\n",
    "        |> List.map(fun it -> Point.ofInts(it.[0], line), Point.ofInts(it.[1], line))\n",
    "        |> List.map (fun (s,e) -> Line.create s e |> Element.createWithStyle style )\n",
    "\n",
    "\n",
    "    let plot (topLeft:int*int) (bottomRight:int*int) line (sensors:Sensor seq) =\n",
    "        //let tl, br = dimensions sensors\n",
    "        let tl = Point.ofInts topLeft \n",
    "        let br = Point.ofInts bottomRight\n",
    "        //display $\"{tl} {br}\"\n",
    "        let area = Area.fromPoints tl br\n",
    "        let viewbox = ViewBox.create tl area\n",
    "\n",
    "        let slice_el =\n",
    "            sensors \n",
    "            |> Slice.intersect line\n",
    "            |> slices line\n",
    "\n",
    "        let sensor_el =\n",
    "            sensors\n",
    "            |> Seq.map plotSensor |> Seq.concat\n",
    "        \n",
    "        slice_el |> Seq.append sensor_el    \n",
    "        |> Svg.ofSeq\n",
    "        |> Svg.withViewBox viewbox\n",
    "        |> showSvg\n",
    "            "
   ]
  },
  {
   "cell_type": "code",
   "execution_count": 35,
   "metadata": {
    "dotnet_interactive": {
     "language": "fsharp"
    },
    "polyglot_notebook": {
     "kernelName": "fsharp"
    }
   },
   "outputs": [
    {
     "data": {
      "text/html": [
       "<div class=\"dni-plaintext\"><pre>4961646</pre></div><style>\r\n",
       ".dni-code-hint {\r\n",
       "    font-style: italic;\r\n",
       "    overflow: hidden;\r\n",
       "    white-space: nowrap;\r\n",
       "}\r\n",
       ".dni-treeview {\r\n",
       "    white-space: nowrap;\r\n",
       "}\r\n",
       ".dni-treeview td {\r\n",
       "    vertical-align: top;\r\n",
       "    text-align: start;\r\n",
       "}\r\n",
       "details.dni-treeview {\r\n",
       "    padding-left: 1em;\r\n",
       "}\r\n",
       "table td {\r\n",
       "    text-align: start;\r\n",
       "}\r\n",
       "table tr { \r\n",
       "    vertical-align: top; \r\n",
       "    margin: 0em 0px;\r\n",
       "}\r\n",
       "table tr td pre \r\n",
       "{ \r\n",
       "    vertical-align: top !important; \r\n",
       "    margin: 0em 0px !important;\r\n",
       "} \r\n",
       "table th {\r\n",
       "    text-align: start;\r\n",
       "}\r\n",
       "</style>"
      ]
     },
     "metadata": {},
     "output_type": "display_data"
    }
   ],
   "source": [
    "let ResolutionFolder = __SOURCE_DIRECTORY__\n",
    "\n",
    "let solve input line =\n",
    "    \n",
    "    let sensors =\n",
    "        File.ReadLines( ResolutionFolder + input)\n",
    "        |> Seq.map Sensor.parse\n",
    "\n",
    "    let intersect =\n",
    "        sensors\n",
    "        |> Slice.intersect line\n",
    "\n",
    "    let sum = intersect |> Slice.sum    \n",
    "\n",
    "    let found = sensors |> Sensor.beaconsAt line\n",
    "\n",
    "    display (sum - found)\n",
    "\n",
    "    sensors\n",
    "\n",
    "let sensors = solve \"/input15.txt\" 2000000"
   ]
  },
  {
   "cell_type": "code",
   "execution_count": 36,
   "metadata": {
    "dotnet_interactive": {
     "language": "fsharp"
    },
    "polyglot_notebook": {
     "kernelName": "fsharp"
    }
   },
   "outputs": [],
   "source": [
    "// WARNING This takes 5+ minutes to compute on my Core i7 10750H @2.6GHz\n",
    "let y = sensors |> Slice.findGap [0 .. 4000000] |> Option.defaultValue 0"
   ]
  },
  {
   "cell_type": "code",
   "execution_count": 37,
   "metadata": {
    "dotnet_interactive": {
     "language": "fsharp"
    },
    "polyglot_notebook": {
     "kernelName": "fsharp"
    }
   },
   "outputs": [],
   "source": [
    "let rotated = sensors |> Seq.map (Sensor.rotate Pos.rotate90)\n",
    "\n",
    "// WARNING This takes 5+ minutes to compute on my Core i7 10750H @2.6GHz\n",
    "let x = rotated |> Slice.findGap [0 .. 4000000] |> Option.defaultValue 0"
   ]
  },
  {
   "cell_type": "code",
   "execution_count": 44,
   "metadata": {
    "dotnet_interactive": {
     "language": "fsharp"
    },
    "polyglot_notebook": {
     "kernelName": "fsharp"
    }
   },
   "outputs": [
    {
     "data": {
      "text/html": [
       "<div class=\"dni-plaintext\"><pre>12274327017867</pre></div><style>\r\n",
       ".dni-code-hint {\r\n",
       "    font-style: italic;\r\n",
       "    overflow: hidden;\r\n",
       "    white-space: nowrap;\r\n",
       "}\r\n",
       ".dni-treeview {\r\n",
       "    white-space: nowrap;\r\n",
       "}\r\n",
       ".dni-treeview td {\r\n",
       "    vertical-align: top;\r\n",
       "    text-align: start;\r\n",
       "}\r\n",
       "details.dni-treeview {\r\n",
       "    padding-left: 1em;\r\n",
       "}\r\n",
       "table td {\r\n",
       "    text-align: start;\r\n",
       "}\r\n",
       "table tr { \r\n",
       "    vertical-align: top; \r\n",
       "    margin: 0em 0px;\r\n",
       "}\r\n",
       "table tr td pre \r\n",
       "{ \r\n",
       "    vertical-align: top !important; \r\n",
       "    margin: 0em 0px !important;\r\n",
       "} \r\n",
       "table th {\r\n",
       "    text-align: start;\r\n",
       "}\r\n",
       "</style>"
      ]
     },
     "metadata": {},
     "output_type": "display_data"
    }
   ],
   "source": [
    "( (int64 x) * 4000000L ) + ( int64 y)"
   ]
  },
  {
   "cell_type": "code",
   "execution_count": 41,
   "metadata": {
    "dotnet_interactive": {
     "language": "fsharp"
    },
    "polyglot_notebook": {
     "kernelName": "fsharp"
    }
   },
   "outputs": [
    {
     "data": {
      "text/html": [
       "<svg xmlns=\"http://www.w3.org/2000/svg\" viewBox=\"-4e+06,0 4e+06,4e+06\"><circle stroke=\"blue\" stroke-width=\"0\" fill=\"blue\" opacity=\"1\" fill-opacity=\"1\" r=\"105210\" cx=\"-2.03817e+06\" cy=\"391282\"/><circle stroke=\"red\" stroke-width=\"0\" fill=\"red\" opacity=\"0.5\" fill-opacity=\"0.5\" r=\"105210\" cx=\"-2.16652e+06\" cy=\"-532461\"/><polygon stroke=\"red\" stroke-width=\"0.05%\" fill=\"green\" opacity=\"0.25\" fill-opacity=\"0.25\" points=\"-2.03817e+06,-660816 -3.09027e+06,391282 -2.03817e+06,1.44338e+06 -986072,391282\"/><circle stroke=\"blue\" stroke-width=\"0\" fill=\"blue\" opacity=\"1\" fill-opacity=\"1\" r=\"10230\" cx=\"-3.78376e+06\" cy=\"3.04238e+06\"/><circle stroke=\"red\" stroke-width=\"0\" fill=\"red\" opacity=\"0.5\" fill-opacity=\"0.5\" r=\"10230\" cx=\"-3.81486e+06\" cy=\"3.11358e+06\"/><polygon stroke=\"red\" stroke-width=\"0.05%\" fill=\"green\" opacity=\"0.25\" fill-opacity=\"0.25\" points=\"-3.78376e+06,2.94009e+06 -3.88606e+06,3.04238e+06 -3.78376e+06,3.14468e+06 -3.68146e+06,3.04238e+06\"/><circle stroke=\"blue\" stroke-width=\"0\" fill=\"blue\" opacity=\"1\" fill-opacity=\"1\" r=\"175681\" cx=\"-757238\" cy=\"3.44409e+06\"/><circle stroke=\"red\" stroke-width=\"0\" fill=\"red\" opacity=\"0.5\" fill-opacity=\"0.5\" r=\"175681\" cx=\"-2e+06\" cy=\"2.93004e+06\"/><polygon stroke=\"red\" stroke-width=\"0.05%\" fill=\"green\" opacity=\"0.25\" fill-opacity=\"0.25\" points=\"-757238,1.68728e+06 -2.51404e+06,3.44409e+06 -757238,5.2009e+06 999569,3.44409e+06\"/><circle stroke=\"blue\" stroke-width=\"0\" fill=\"blue\" opacity=\"1\" fill-opacity=\"1\" r=\"38666\" cx=\"-288172\" cy=\"971638\"/><circle stroke=\"red\" stroke-width=\"0\" fill=\"red\" opacity=\"0.5\" fill-opacity=\"0.5\" r=\"38666\" cx=\"-638195\" cy=\"935006\"/><polygon stroke=\"red\" stroke-width=\"0.05%\" fill=\"green\" opacity=\"0.25\" fill-opacity=\"0.25\" points=\"-288172,584983 -674827,971638 -288172,1.35829e+06 98483,971638\"/><circle stroke=\"blue\" stroke-width=\"0\" fill=\"blue\" opacity=\"1\" fill-opacity=\"1\" r=\"87503\" cx=\"-1.87918e+06\" cy=\"2.17584e+06\"/><circle stroke=\"red\" stroke-width=\"0\" fill=\"red\" opacity=\"0.5\" fill-opacity=\"0.5\" r=\"87503\" cx=\"-2e+06\" cy=\"2.93004e+06\"/><polygon stroke=\"red\" stroke-width=\"0.05%\" fill=\"green\" opacity=\"0.25\" fill-opacity=\"0.25\" points=\"-1.87918e+06,1.30082e+06 -2.7542e+06,2.17584e+06 -1.87918e+06,3.05087e+06 -1.00415e+06,2.17584e+06\"/><circle stroke=\"blue\" stroke-width=\"0\" fill=\"blue\" opacity=\"1\" fill-opacity=\"1\" r=\"5620\" cx=\"-3.82058e+06\" cy=\"3.0631e+06\"/><circle stroke=\"red\" stroke-width=\"0\" fill=\"red\" opacity=\"0.5\" fill-opacity=\"0.5\" r=\"5620\" cx=\"-3.81486e+06\" cy=\"3.11358e+06\"/><polygon stroke=\"red\" stroke-width=\"0.05%\" fill=\"green\" opacity=\"0.25\" fill-opacity=\"0.25\" points=\"-3.82058e+06,3.0069e+06 -3.87677e+06,3.0631e+06 -3.82058e+06,3.1193e+06 -3.76438e+06,3.0631e+06\"/><circle stroke=\"blue\" stroke-width=\"0\" fill=\"blue\" opacity=\"1\" fill-opacity=\"1\" r=\"27171\" cx=\"-3.66734e+06\" cy=\"2.59129e+06\"/><circle stroke=\"red\" stroke-width=\"0\" fill=\"red\" opacity=\"0.5\" fill-opacity=\"0.5\" r=\"27171\" cx=\"-3.76214e+06\" cy=\"2.7682e+06\"/><polygon stroke=\"red\" stroke-width=\"0.05%\" fill=\"green\" opacity=\"0.25\" fill-opacity=\"0.25\" points=\"-3.66734e+06,2.31959e+06 -3.93904e+06,2.59129e+06 -3.66734e+06,2.863e+06 -3.39564e+06,2.59129e+06\"/><circle stroke=\"blue\" stroke-width=\"0\" fill=\"blue\" opacity=\"1\" fill-opacity=\"1\" r=\"41592\" cx=\"-3.98963e+06\" cy=\"2.57977e+06\"/><circle stroke=\"red\" stroke-width=\"0\" fill=\"red\" opacity=\"0.5\" fill-opacity=\"0.5\" r=\"41592\" cx=\"-3.76214e+06\" cy=\"2.7682e+06\"/><polygon stroke=\"red\" stroke-width=\"0.05%\" fill=\"green\" opacity=\"0.25\" fill-opacity=\"0.25\" points=\"-3.98963e+06,2.16386e+06 -4.40554e+06,2.57977e+06 -3.98963e+06,2.99569e+06 -3.57371e+06,2.57977e+06\"/><circle stroke=\"blue\" stroke-width=\"0\" fill=\"blue\" opacity=\"1\" fill-opacity=\"1\" r=\"14895\" cx=\"-2.10677e+06\" cy=\"2.88788e+06\"/><circle stroke=\"red\" stroke-width=\"0\" fill=\"red\" opacity=\"0.5\" fill-opacity=\"0.5\" r=\"14895\" cx=\"-2e+06\" cy=\"2.93004e+06\"/><polygon stroke=\"red\" stroke-width=\"0.05%\" fill=\"green\" opacity=\"0.25\" fill-opacity=\"0.25\" points=\"-2.10677e+06,2.73893e+06 -2.25572e+06,2.88788e+06 -2.10677e+06,3.03682e+06 -1.95783e+06,2.88788e+06\"/><circle stroke=\"blue\" stroke-width=\"0\" fill=\"blue\" opacity=\"1\" fill-opacity=\"1\" r=\"52233\" cx=\"-3.28027e+06\" cy=\"2.80866e+06\"/><circle stroke=\"red\" stroke-width=\"0\" fill=\"red\" opacity=\"0.5\" fill-opacity=\"0.5\" r=\"52233\" cx=\"-3.76214e+06\" cy=\"2.7682e+06\"/><polygon stroke=\"red\" stroke-width=\"0.05%\" fill=\"green\" opacity=\"0.25\" fill-opacity=\"0.25\" points=\"-3.28027e+06,2.28633e+06 -3.8026e+06,2.80866e+06 -3.28027e+06,3.33098e+06 -2.75795e+06,2.80866e+06\"/><circle stroke=\"blue\" stroke-width=\"0\" fill=\"blue\" opacity=\"1\" fill-opacity=\"1\" r=\"24094\" cx=\"-3.89706e+06\" cy=\"2.87421e+06\"/><circle stroke=\"red\" stroke-width=\"0\" fill=\"red\" opacity=\"0.5\" fill-opacity=\"0.5\" r=\"24094\" cx=\"-3.76214e+06\" cy=\"2.7682e+06\"/><polygon stroke=\"red\" stroke-width=\"0.05%\" fill=\"green\" opacity=\"0.25\" fill-opacity=\"0.25\" points=\"-3.89706e+06,2.63328e+06 -4.138e+06,2.87421e+06 -3.89706e+06,3.11515e+06 -3.65612e+06,2.87421e+06\"/><circle stroke=\"blue\" stroke-width=\"0\" fill=\"blue\" opacity=\"1\" fill-opacity=\"1\" r=\"71818\" cx=\"-134640\" cy=\"720384\"/><circle stroke=\"red\" stroke-width=\"0\" fill=\"red\" opacity=\"0.5\" fill-opacity=\"0.5\" r=\"71818\" cx=\"-638195\" cy=\"935006\"/><polygon stroke=\"red\" stroke-width=\"0.05%\" fill=\"green\" opacity=\"0.25\" fill-opacity=\"0.25\" points=\"-134640,2207 -852817,720384 -134640,1.43856e+06 583537,720384\"/><circle stroke=\"blue\" stroke-width=\"0\" fill=\"blue\" opacity=\"1\" fill-opacity=\"1\" r=\"145767\" cx=\"-1.24181e+06\" cy=\"489\"/><circle stroke=\"red\" stroke-width=\"0\" fill=\"red\" opacity=\"0.5\" fill-opacity=\"0.5\" r=\"145767\" cx=\"-2.16652e+06\" cy=\"-532461\"/><polygon stroke=\"red\" stroke-width=\"0.05%\" fill=\"green\" opacity=\"0.25\" fill-opacity=\"0.25\" points=\"-1.24181e+06,-1.45717e+06 -2.69948e+06,489 -1.24181e+06,1.45815e+06 215849,489\"/><circle stroke=\"blue\" stroke-width=\"0\" fill=\"blue\" opacity=\"1\" fill-opacity=\"1\" r=\"33569\" cx=\"-2.87897e+06\" cy=\"120643\"/><circle stroke=\"red\" stroke-width=\"0\" fill=\"red\" opacity=\"0.5\" fill-opacity=\"0.5\" r=\"33569\" cx=\"-3.10749e+06\" cy=\"227814\"/><polygon stroke=\"red\" stroke-width=\"0.05%\" fill=\"green\" opacity=\"0.25\" fill-opacity=\"0.25\" points=\"-2.87897e+06,-215044 -3.21466e+06,120643 -2.87897e+06,456330 -2.54329e+06,120643\"/><circle stroke=\"blue\" stroke-width=\"0\" fill=\"blue\" opacity=\"1\" fill-opacity=\"1\" r=\"11409\" cx=\"-2.99189e+06\" cy=\"3.99073e+06\"/><circle stroke=\"red\" stroke-width=\"0\" fill=\"red\" opacity=\"0.5\" fill-opacity=\"0.5\" r=\"11409\" cx=\"-3.03968e+06\" cy=\"3.92444e+06\"/><polygon stroke=\"red\" stroke-width=\"0.05%\" fill=\"green\" opacity=\"0.25\" fill-opacity=\"0.25\" points=\"-2.99189e+06,3.87665e+06 -3.10597e+06,3.99073e+06 -2.99189e+06,4.10481e+06 -2.87781e+06,3.99073e+06\"/><circle stroke=\"blue\" stroke-width=\"0\" fill=\"blue\" opacity=\"1\" fill-opacity=\"1\" r=\"128024\" cx=\"-3.03063e+06\" cy=\"1.49409e+06\"/><circle stroke=\"red\" stroke-width=\"0\" fill=\"red\" opacity=\"0.5\" fill-opacity=\"0.5\" r=\"128024\" cx=\"-2.79394e+06\" cy=\"2.53763e+06\"/><polygon stroke=\"red\" stroke-width=\"0.05%\" fill=\"green\" opacity=\"0.25\" fill-opacity=\"0.25\" points=\"-3.03063e+06,213849 -4.31087e+06,1.49409e+06 -3.03063e+06,2.77432e+06 -1.7504e+06,1.49409e+06\"/><circle stroke=\"blue\" stroke-width=\"0\" fill=\"blue\" opacity=\"1\" fill-opacity=\"1\" r=\"120716\" cx=\"-360451\" cy=\"1.86442e+06\"/><circle stroke=\"red\" stroke-width=\"0\" fill=\"red\" opacity=\"0.5\" fill-opacity=\"0.5\" r=\"120716\" cx=\"-638195\" cy=\"935006\"/><polygon stroke=\"red\" stroke-width=\"0.05%\" fill=\"green\" opacity=\"0.25\" fill-opacity=\"0.25\" points=\"-360451,657262 -1.56761e+06,1.86442e+06 -360451,3.07157e+06 846704,1.86442e+06\"/><circle stroke=\"blue\" stroke-width=\"0\" fill=\"blue\" opacity=\"1\" fill-opacity=\"1\" r=\"22083\" cx=\"-3.7328e+06\" cy=\"2.97481e+06\"/><circle stroke=\"red\" stroke-width=\"0\" fill=\"red\" opacity=\"0.5\" fill-opacity=\"0.5\" r=\"22083\" cx=\"-3.81486e+06\" cy=\"3.11358e+06\"/><polygon stroke=\"red\" stroke-width=\"0.05%\" fill=\"green\" opacity=\"0.25\" fill-opacity=\"0.25\" points=\"-3.7328e+06,2.75398e+06 -3.95363e+06,2.97481e+06 -3.7328e+06,3.19564e+06 -3.51198e+06,2.97481e+06\"/><circle stroke=\"blue\" stroke-width=\"0\" fill=\"blue\" opacity=\"1\" fill-opacity=\"1\" r=\"34294\" cx=\"-3.99803e+06\" cy=\"3.27334e+06\"/><circle stroke=\"red\" stroke-width=\"0\" fill=\"red\" opacity=\"0.5\" fill-opacity=\"0.5\" r=\"34294\" cx=\"-3.81486e+06\" cy=\"3.11358e+06\"/><polygon stroke=\"red\" stroke-width=\"0.05%\" fill=\"green\" opacity=\"0.25\" fill-opacity=\"0.25\" points=\"-3.99803e+06,2.93041e+06 -4.34096e+06,3.27334e+06 -3.99803e+06,3.61627e+06 -3.6551e+06,3.27334e+06\"/><circle stroke=\"blue\" stroke-width=\"0\" fill=\"blue\" opacity=\"1\" fill-opacity=\"1\" r=\"149277\" cx=\"-1.59708e+06\" cy=\"1.46889e+06\"/><circle stroke=\"red\" stroke-width=\"0\" fill=\"red\" opacity=\"0.5\" fill-opacity=\"0.5\" r=\"149277\" cx=\"-638195\" cy=\"935006\"/><polygon stroke=\"red\" stroke-width=\"0.05%\" fill=\"green\" opacity=\"0.25\" fill-opacity=\"0.25\" points=\"-1.59708e+06,-23880 -3.08985e+06,1.46889e+06 -1.59708e+06,2.96165e+06 -104315,1.46889e+06\"/><circle stroke=\"blue\" stroke-width=\"0\" fill=\"blue\" opacity=\"1\" fill-opacity=\"1\" r=\"70347\" cx=\"-3.74385e+06\" cy=\"2.08302e+06\"/><circle stroke=\"red\" stroke-width=\"0\" fill=\"red\" opacity=\"0.5\" fill-opacity=\"0.5\" r=\"70347\" cx=\"-3.76214e+06\" cy=\"2.7682e+06\"/><polygon stroke=\"red\" stroke-width=\"0.05%\" fill=\"green\" opacity=\"0.25\" fill-opacity=\"0.25\" points=\"-3.74385e+06,1.37955e+06 -4.44732e+06,2.08302e+06 -3.74385e+06,2.78648e+06 -3.04038e+06,2.08302e+06\"/><circle stroke=\"blue\" stroke-width=\"0\" fill=\"blue\" opacity=\"1\" fill-opacity=\"1\" r=\"69450\" cx=\"-3.39386e+06\" cy=\"3.38708e+06\"/><circle stroke=\"red\" stroke-width=\"0\" fill=\"red\" opacity=\"0.5\" fill-opacity=\"0.5\" r=\"69450\" cx=\"-3.81486e+06\" cy=\"3.11358e+06\"/><polygon stroke=\"red\" stroke-width=\"0.05%\" fill=\"green\" opacity=\"0.25\" fill-opacity=\"0.25\" points=\"-3.39386e+06,2.69259e+06 -4.08836e+06,3.38708e+06 -3.39386e+06,4.08157e+06 -2.69937e+06,3.38708e+06\"/><circle stroke=\"blue\" stroke-width=\"0\" fill=\"blue\" opacity=\"1\" fill-opacity=\"1\" r=\"8226\" cx=\"-2.05286e+06\" cy=\"2.95944e+06\"/><circle stroke=\"red\" stroke-width=\"0\" fill=\"red\" opacity=\"0.5\" fill-opacity=\"0.5\" r=\"8226\" cx=\"-2e+06\" cy=\"2.93004e+06\"/><polygon stroke=\"red\" stroke-width=\"0.05%\" fill=\"green\" opacity=\"0.25\" fill-opacity=\"0.25\" points=\"-2.05286e+06,2.87718e+06 -2.13512e+06,2.95944e+06 -2.05286e+06,3.0417e+06 -1.9706e+06,2.95944e+06\"/><circle stroke=\"blue\" stroke-width=\"0\" fill=\"blue\" opacity=\"1\" fill-opacity=\"1\" r=\"71965\" cx=\"-1.11204e+06\" cy=\"1.1808e+06\"/><circle stroke=\"red\" stroke-width=\"0\" fill=\"red\" opacity=\"0.5\" fill-opacity=\"0.5\" r=\"71965\" cx=\"-638195\" cy=\"935006\"/><polygon stroke=\"red\" stroke-width=\"0.05%\" fill=\"green\" opacity=\"0.25\" fill-opacity=\"0.25\" points=\"-1.11204e+06,461158 -1.83169e+06,1.1808e+06 -1.11204e+06,1.90045e+06 -392397,1.1808e+06\"/><circle stroke=\"blue\" stroke-width=\"0\" fill=\"blue\" opacity=\"1\" fill-opacity=\"1\" r=\"30669\" cx=\"-2.20645e+06\" cy=\"2.82981e+06\"/><circle stroke=\"red\" stroke-width=\"0\" fill=\"red\" opacity=\"0.5\" fill-opacity=\"0.5\" r=\"30669\" cx=\"-2e+06\" cy=\"2.93004e+06\"/><polygon stroke=\"red\" stroke-width=\"0.05%\" fill=\"green\" opacity=\"0.25\" fill-opacity=\"0.25\" points=\"-2.20645e+06,2.52312e+06 -2.51313e+06,2.82981e+06 -2.20645e+06,3.13649e+06 -1.89976e+06,2.82981e+06\"/><circle stroke=\"blue\" stroke-width=\"0\" fill=\"blue\" opacity=\"1\" fill-opacity=\"1\" r=\"14917\" cx=\"-3.11426e+06\" cy=\"3.99902e+06\"/><circle stroke=\"red\" stroke-width=\"0\" fill=\"red\" opacity=\"0.5\" fill-opacity=\"0.5\" r=\"14917\" cx=\"-3.03968e+06\" cy=\"3.92444e+06\"/><polygon stroke=\"red\" stroke-width=\"0.05%\" fill=\"green\" opacity=\"0.25\" fill-opacity=\"0.25\" points=\"-3.11426e+06,3.84986e+06 -3.26342e+06,3.99902e+06 -3.11426e+06,4.14818e+06 -2.9651e+06,3.99902e+06\"/><circle stroke=\"blue\" stroke-width=\"0\" fill=\"blue\" opacity=\"1\" fill-opacity=\"1\" r=\"109897\" cx=\"-3.89331e+06\" cy=\"540955\"/><circle stroke=\"red\" stroke-width=\"0\" fill=\"red\" opacity=\"0.5\" fill-opacity=\"0.5\" r=\"109897\" cx=\"-3.10749e+06\" cy=\"227814\"/><polygon stroke=\"red\" stroke-width=\"0.05%\" fill=\"green\" opacity=\"0.25\" fill-opacity=\"0.25\" points=\"-3.89331e+06,-558009 -4.99228e+06,540955 -3.89331e+06,1.63992e+06 -2.79435e+06,540955\"/><circle stroke=\"blue\" stroke-width=\"0\" fill=\"blue\" opacity=\"1\" fill-opacity=\"1\" r=\"94434\" cx=\"-2.35073e+06\" cy=\"3.66906e+06\"/><circle stroke=\"red\" stroke-width=\"0\" fill=\"red\" opacity=\"0.5\" fill-opacity=\"0.5\" r=\"94434\" cx=\"-3.03968e+06\" cy=\"3.92444e+06\"/><polygon stroke=\"red\" stroke-width=\"0.05%\" fill=\"green\" opacity=\"0.25\" fill-opacity=\"0.25\" points=\"-2.35073e+06,2.72472e+06 -3.29506e+06,3.66906e+06 -2.35073e+06,4.61339e+06 -1.4064e+06,3.66906e+06\"/><circle stroke=\"blue\" stroke-width=\"0\" fill=\"blue\" opacity=\"1\" fill-opacity=\"1\" r=\"41712\" cx=\"-2.75427e+06\" cy=\"2.91507e+06\"/><circle stroke=\"red\" stroke-width=\"0\" fill=\"red\" opacity=\"0.5\" fill-opacity=\"0.5\" r=\"41712\" cx=\"-2.79394e+06\" cy=\"2.53763e+06\"/><polygon stroke=\"red\" stroke-width=\"0.05%\" fill=\"green\" opacity=\"0.25\" fill-opacity=\"0.25\" points=\"-2.75427e+06,2.49796e+06 -3.17138e+06,2.91507e+06 -2.75427e+06,3.33218e+06 -2.33715e+06,2.91507e+06\"/><circle stroke=\"blue\" stroke-width=\"0\" fill=\"blue\" opacity=\"1\" fill-opacity=\"1\" r=\"61802\" cx=\"-2.83869e+06\" cy=\"3.50742e+06\"/><circle stroke=\"red\" stroke-width=\"0\" fill=\"red\" opacity=\"0.5\" fill-opacity=\"0.5\" r=\"61802\" cx=\"-3.03968e+06\" cy=\"3.92444e+06\"/><polygon stroke=\"red\" stroke-width=\"0.05%\" fill=\"green\" opacity=\"0.25\" fill-opacity=\"0.25\" points=\"-2.83869e+06,2.8894e+06 -3.4567e+06,3.50742e+06 -2.83869e+06,4.12544e+06 -2.22067e+06,3.50742e+06\"/><circle stroke=\"blue\" stroke-width=\"0\" fill=\"blue\" opacity=\"1\" fill-opacity=\"1\" r=\"90868\" cx=\"-498589\" cy=\"165939\"/><circle stroke=\"red\" stroke-width=\"0\" fill=\"red\" opacity=\"0.5\" fill-opacity=\"0.5\" r=\"90868\" cx=\"-638195\" cy=\"935006\"/><polygon stroke=\"red\" stroke-width=\"0.05%\" fill=\"green\" opacity=\"0.25\" fill-opacity=\"0.25\" points=\"-498589,-742734 -1.40726e+06,165939 -498589,1.07461e+06 410084,165939\"/><circle stroke=\"blue\" stroke-width=\"0\" fill=\"blue\" opacity=\"1\" fill-opacity=\"1\" r=\"75950\" cx=\"-3.79265e+06\" cy=\"3.91792e+06\"/><circle stroke=\"red\" stroke-width=\"0\" fill=\"red\" opacity=\"0.5\" fill-opacity=\"0.5\" r=\"75950\" cx=\"-3.03968e+06\" cy=\"3.92444e+06\"/><polygon stroke=\"red\" stroke-width=\"0.05%\" fill=\"green\" opacity=\"0.25\" fill-opacity=\"0.25\" points=\"-3.79265e+06,3.15842e+06 -4.55214e+06,3.91792e+06 -3.79265e+06,4.67741e+06 -3.03315e+06,3.91792e+06\"/><circle stroke=\"blue\" stroke-width=\"0\" fill=\"blue\" opacity=\"1\" fill-opacity=\"1\" r=\"28189\" cx=\"-3.20226e+06\" cy=\"40698\"/><circle stroke=\"red\" stroke-width=\"0\" fill=\"red\" opacity=\"0.5\" fill-opacity=\"0.5\" r=\"28189\" cx=\"-3.10749e+06\" cy=\"227814\"/><polygon stroke=\"red\" stroke-width=\"0.05%\" fill=\"green\" opacity=\"0.25\" fill-opacity=\"0.25\" points=\"-3.20226e+06,-241186 -3.48414e+06,40698 -3.20226e+06,322582 -2.92037e+06,40698\"/><circle stroke=\"blue\" stroke-width=\"0\" fill=\"blue\" opacity=\"1\" fill-opacity=\"1\" r=\"43652\" cx=\"-2.43974e+06\" cy=\"2.61995e+06\"/><circle stroke=\"red\" stroke-width=\"0\" fill=\"red\" opacity=\"0.5\" fill-opacity=\"0.5\" r=\"43652\" cx=\"-2.79394e+06\" cy=\"2.53763e+06\"/><polygon stroke=\"red\" stroke-width=\"0.05%\" fill=\"green\" opacity=\"0.25\" fill-opacity=\"0.25\" points=\"-2.43974e+06,2.18343e+06 -2.87626e+06,2.61995e+06 -2.43974e+06,3.05646e+06 -2.00323e+06,2.61995e+06\"/><line stroke=\"red\" stroke-width=\"0.1%\" fill=\"red\" opacity=\"1\" fill-opacity=\"1\" x1=\"-4.13621e+06\" y1=\"3.06858e+06\" x2=\"-3.01787e+06\" y2=\"3.06858e+06\"/><line stroke=\"red\" stroke-width=\"0.1%\" fill=\"red\" opacity=\"1\" fill-opacity=\"1\" x1=\"-3.01787e+06\" y1=\"3.06858e+06\" x2=\"624060\" y2=\"3.06858e+06\"/></svg>"
      ]
     },
     "metadata": {},
     "output_type": "display_data"
    }
   ],
   "source": [
    "rotated |> Preview.plot (-4000000,0) (0,4000000) x"
   ]
  },
  {
   "cell_type": "code",
   "execution_count": 42,
   "metadata": {
    "dotnet_interactive": {
     "language": "fsharp"
    },
    "polyglot_notebook": {
     "kernelName": "fsharp"
    }
   },
   "outputs": [
    {
     "data": {
      "text/html": [
       "<svg xmlns=\"http://www.w3.org/2000/svg\" viewBox=\"0,0 4e+06,4e+06\"><circle stroke=\"blue\" stroke-width=\"0\" fill=\"blue\" opacity=\"1\" fill-opacity=\"1\" r=\"105210\" cx=\"391282\" cy=\"2.03817e+06\"/><circle stroke=\"red\" stroke-width=\"0\" fill=\"red\" opacity=\"0.5\" fill-opacity=\"0.5\" r=\"105210\" cx=\"-532461\" cy=\"2.16652e+06\"/><polygon stroke=\"red\" stroke-width=\"0.05%\" fill=\"green\" opacity=\"0.25\" fill-opacity=\"0.25\" points=\"391282,986072 -660816,2.03817e+06 391282,3.09027e+06 1.44338e+06,2.03817e+06\"/><circle stroke=\"blue\" stroke-width=\"0\" fill=\"blue\" opacity=\"1\" fill-opacity=\"1\" r=\"10230\" cx=\"3.04238e+06\" cy=\"3.78376e+06\"/><circle stroke=\"red\" stroke-width=\"0\" fill=\"red\" opacity=\"0.5\" fill-opacity=\"0.5\" r=\"10230\" cx=\"3.11358e+06\" cy=\"3.81486e+06\"/><polygon stroke=\"red\" stroke-width=\"0.05%\" fill=\"green\" opacity=\"0.25\" fill-opacity=\"0.25\" points=\"3.04238e+06,3.68146e+06 2.94009e+06,3.78376e+06 3.04238e+06,3.88606e+06 3.14468e+06,3.78376e+06\"/><circle stroke=\"blue\" stroke-width=\"0\" fill=\"blue\" opacity=\"1\" fill-opacity=\"1\" r=\"175681\" cx=\"3.44409e+06\" cy=\"757238\"/><circle stroke=\"red\" stroke-width=\"0\" fill=\"red\" opacity=\"0.5\" fill-opacity=\"0.5\" r=\"175681\" cx=\"2.93004e+06\" cy=\"2e+06\"/><polygon stroke=\"red\" stroke-width=\"0.05%\" fill=\"green\" opacity=\"0.25\" fill-opacity=\"0.25\" points=\"3.44409e+06,-999569 1.68728e+06,757238 3.44409e+06,2.51404e+06 5.2009e+06,757238\"/><circle stroke=\"blue\" stroke-width=\"0\" fill=\"blue\" opacity=\"1\" fill-opacity=\"1\" r=\"38666\" cx=\"971638\" cy=\"288172\"/><circle stroke=\"red\" stroke-width=\"0\" fill=\"red\" opacity=\"0.5\" fill-opacity=\"0.5\" r=\"38666\" cx=\"935006\" cy=\"638195\"/><polygon stroke=\"red\" stroke-width=\"0.05%\" fill=\"green\" opacity=\"0.25\" fill-opacity=\"0.25\" points=\"971638,-98483 584983,288172 971638,674827 1.35829e+06,288172\"/><circle stroke=\"blue\" stroke-width=\"0\" fill=\"blue\" opacity=\"1\" fill-opacity=\"1\" r=\"87503\" cx=\"2.17584e+06\" cy=\"1.87918e+06\"/><circle stroke=\"red\" stroke-width=\"0\" fill=\"red\" opacity=\"0.5\" fill-opacity=\"0.5\" r=\"87503\" cx=\"2.93004e+06\" cy=\"2e+06\"/><polygon stroke=\"red\" stroke-width=\"0.05%\" fill=\"green\" opacity=\"0.25\" fill-opacity=\"0.25\" points=\"2.17584e+06,1.00415e+06 1.30082e+06,1.87918e+06 2.17584e+06,2.7542e+06 3.05087e+06,1.87918e+06\"/><circle stroke=\"blue\" stroke-width=\"0\" fill=\"blue\" opacity=\"1\" fill-opacity=\"1\" r=\"5620\" cx=\"3.0631e+06\" cy=\"3.82058e+06\"/><circle stroke=\"red\" stroke-width=\"0\" fill=\"red\" opacity=\"0.5\" fill-opacity=\"0.5\" r=\"5620\" cx=\"3.11358e+06\" cy=\"3.81486e+06\"/><polygon stroke=\"red\" stroke-width=\"0.05%\" fill=\"green\" opacity=\"0.25\" fill-opacity=\"0.25\" points=\"3.0631e+06,3.76438e+06 3.0069e+06,3.82058e+06 3.0631e+06,3.87677e+06 3.1193e+06,3.82058e+06\"/><circle stroke=\"blue\" stroke-width=\"0\" fill=\"blue\" opacity=\"1\" fill-opacity=\"1\" r=\"27171\" cx=\"2.59129e+06\" cy=\"3.66734e+06\"/><circle stroke=\"red\" stroke-width=\"0\" fill=\"red\" opacity=\"0.5\" fill-opacity=\"0.5\" r=\"27171\" cx=\"2.7682e+06\" cy=\"3.76214e+06\"/><polygon stroke=\"red\" stroke-width=\"0.05%\" fill=\"green\" opacity=\"0.25\" fill-opacity=\"0.25\" points=\"2.59129e+06,3.39564e+06 2.31959e+06,3.66734e+06 2.59129e+06,3.93904e+06 2.863e+06,3.66734e+06\"/><circle stroke=\"blue\" stroke-width=\"0\" fill=\"blue\" opacity=\"1\" fill-opacity=\"1\" r=\"41592\" cx=\"2.57977e+06\" cy=\"3.98963e+06\"/><circle stroke=\"red\" stroke-width=\"0\" fill=\"red\" opacity=\"0.5\" fill-opacity=\"0.5\" r=\"41592\" cx=\"2.7682e+06\" cy=\"3.76214e+06\"/><polygon stroke=\"red\" stroke-width=\"0.05%\" fill=\"green\" opacity=\"0.25\" fill-opacity=\"0.25\" points=\"2.57977e+06,3.57371e+06 2.16386e+06,3.98963e+06 2.57977e+06,4.40554e+06 2.99569e+06,3.98963e+06\"/><circle stroke=\"blue\" stroke-width=\"0\" fill=\"blue\" opacity=\"1\" fill-opacity=\"1\" r=\"14895\" cx=\"2.88788e+06\" cy=\"2.10677e+06\"/><circle stroke=\"red\" stroke-width=\"0\" fill=\"red\" opacity=\"0.5\" fill-opacity=\"0.5\" r=\"14895\" cx=\"2.93004e+06\" cy=\"2e+06\"/><polygon stroke=\"red\" stroke-width=\"0.05%\" fill=\"green\" opacity=\"0.25\" fill-opacity=\"0.25\" points=\"2.88788e+06,1.95783e+06 2.73893e+06,2.10677e+06 2.88788e+06,2.25572e+06 3.03682e+06,2.10677e+06\"/><circle stroke=\"blue\" stroke-width=\"0\" fill=\"blue\" opacity=\"1\" fill-opacity=\"1\" r=\"52233\" cx=\"2.80866e+06\" cy=\"3.28027e+06\"/><circle stroke=\"red\" stroke-width=\"0\" fill=\"red\" opacity=\"0.5\" fill-opacity=\"0.5\" r=\"52233\" cx=\"2.7682e+06\" cy=\"3.76214e+06\"/><polygon stroke=\"red\" stroke-width=\"0.05%\" fill=\"green\" opacity=\"0.25\" fill-opacity=\"0.25\" points=\"2.80866e+06,2.75795e+06 2.28633e+06,3.28027e+06 2.80866e+06,3.8026e+06 3.33098e+06,3.28027e+06\"/><circle stroke=\"blue\" stroke-width=\"0\" fill=\"blue\" opacity=\"1\" fill-opacity=\"1\" r=\"24094\" cx=\"2.87421e+06\" cy=\"3.89706e+06\"/><circle stroke=\"red\" stroke-width=\"0\" fill=\"red\" opacity=\"0.5\" fill-opacity=\"0.5\" r=\"24094\" cx=\"2.7682e+06\" cy=\"3.76214e+06\"/><polygon stroke=\"red\" stroke-width=\"0.05%\" fill=\"green\" opacity=\"0.25\" fill-opacity=\"0.25\" points=\"2.87421e+06,3.65612e+06 2.63328e+06,3.89706e+06 2.87421e+06,4.138e+06 3.11515e+06,3.89706e+06\"/><circle stroke=\"blue\" stroke-width=\"0\" fill=\"blue\" opacity=\"1\" fill-opacity=\"1\" r=\"71818\" cx=\"720384\" cy=\"134640\"/><circle stroke=\"red\" stroke-width=\"0\" fill=\"red\" opacity=\"0.5\" fill-opacity=\"0.5\" r=\"71818\" cx=\"935006\" cy=\"638195\"/><polygon stroke=\"red\" stroke-width=\"0.05%\" fill=\"green\" opacity=\"0.25\" fill-opacity=\"0.25\" points=\"720384,-583537 2207,134640 720384,852817 1.43856e+06,134640\"/><circle stroke=\"blue\" stroke-width=\"0\" fill=\"blue\" opacity=\"1\" fill-opacity=\"1\" r=\"145767\" cx=\"489\" cy=\"1.24181e+06\"/><circle stroke=\"red\" stroke-width=\"0\" fill=\"red\" opacity=\"0.5\" fill-opacity=\"0.5\" r=\"145767\" cx=\"-532461\" cy=\"2.16652e+06\"/><polygon stroke=\"red\" stroke-width=\"0.05%\" fill=\"green\" opacity=\"0.25\" fill-opacity=\"0.25\" points=\"489,-215849 -1.45717e+06,1.24181e+06 489,2.69948e+06 1.45815e+06,1.24181e+06\"/><circle stroke=\"blue\" stroke-width=\"0\" fill=\"blue\" opacity=\"1\" fill-opacity=\"1\" r=\"33569\" cx=\"120643\" cy=\"2.87897e+06\"/><circle stroke=\"red\" stroke-width=\"0\" fill=\"red\" opacity=\"0.5\" fill-opacity=\"0.5\" r=\"33569\" cx=\"227814\" cy=\"3.10749e+06\"/><polygon stroke=\"red\" stroke-width=\"0.05%\" fill=\"green\" opacity=\"0.25\" fill-opacity=\"0.25\" points=\"120643,2.54329e+06 -215044,2.87897e+06 120643,3.21466e+06 456330,2.87897e+06\"/><circle stroke=\"blue\" stroke-width=\"0\" fill=\"blue\" opacity=\"1\" fill-opacity=\"1\" r=\"11409\" cx=\"3.99073e+06\" cy=\"2.99189e+06\"/><circle stroke=\"red\" stroke-width=\"0\" fill=\"red\" opacity=\"0.5\" fill-opacity=\"0.5\" r=\"11409\" cx=\"3.92444e+06\" cy=\"3.03968e+06\"/><polygon stroke=\"red\" stroke-width=\"0.05%\" fill=\"green\" opacity=\"0.25\" fill-opacity=\"0.25\" points=\"3.99073e+06,2.87781e+06 3.87665e+06,2.99189e+06 3.99073e+06,3.10597e+06 4.10481e+06,2.99189e+06\"/><circle stroke=\"blue\" stroke-width=\"0\" fill=\"blue\" opacity=\"1\" fill-opacity=\"1\" r=\"128024\" cx=\"1.49409e+06\" cy=\"3.03063e+06\"/><circle stroke=\"red\" stroke-width=\"0\" fill=\"red\" opacity=\"0.5\" fill-opacity=\"0.5\" r=\"128024\" cx=\"2.53763e+06\" cy=\"2.79394e+06\"/><polygon stroke=\"red\" stroke-width=\"0.05%\" fill=\"green\" opacity=\"0.25\" fill-opacity=\"0.25\" points=\"1.49409e+06,1.7504e+06 213849,3.03063e+06 1.49409e+06,4.31087e+06 2.77432e+06,3.03063e+06\"/><circle stroke=\"blue\" stroke-width=\"0\" fill=\"blue\" opacity=\"1\" fill-opacity=\"1\" r=\"120716\" cx=\"1.86442e+06\" cy=\"360451\"/><circle stroke=\"red\" stroke-width=\"0\" fill=\"red\" opacity=\"0.5\" fill-opacity=\"0.5\" r=\"120716\" cx=\"935006\" cy=\"638195\"/><polygon stroke=\"red\" stroke-width=\"0.05%\" fill=\"green\" opacity=\"0.25\" fill-opacity=\"0.25\" points=\"1.86442e+06,-846704 657262,360451 1.86442e+06,1.56761e+06 3.07157e+06,360451\"/><circle stroke=\"blue\" stroke-width=\"0\" fill=\"blue\" opacity=\"1\" fill-opacity=\"1\" r=\"22083\" cx=\"2.97481e+06\" cy=\"3.7328e+06\"/><circle stroke=\"red\" stroke-width=\"0\" fill=\"red\" opacity=\"0.5\" fill-opacity=\"0.5\" r=\"22083\" cx=\"3.11358e+06\" cy=\"3.81486e+06\"/><polygon stroke=\"red\" stroke-width=\"0.05%\" fill=\"green\" opacity=\"0.25\" fill-opacity=\"0.25\" points=\"2.97481e+06,3.51198e+06 2.75398e+06,3.7328e+06 2.97481e+06,3.95363e+06 3.19564e+06,3.7328e+06\"/><circle stroke=\"blue\" stroke-width=\"0\" fill=\"blue\" opacity=\"1\" fill-opacity=\"1\" r=\"34294\" cx=\"3.27334e+06\" cy=\"3.99803e+06\"/><circle stroke=\"red\" stroke-width=\"0\" fill=\"red\" opacity=\"0.5\" fill-opacity=\"0.5\" r=\"34294\" cx=\"3.11358e+06\" cy=\"3.81486e+06\"/><polygon stroke=\"red\" stroke-width=\"0.05%\" fill=\"green\" opacity=\"0.25\" fill-opacity=\"0.25\" points=\"3.27334e+06,3.6551e+06 2.93041e+06,3.99803e+06 3.27334e+06,4.34096e+06 3.61627e+06,3.99803e+06\"/><circle stroke=\"blue\" stroke-width=\"0\" fill=\"blue\" opacity=\"1\" fill-opacity=\"1\" r=\"149277\" cx=\"1.46889e+06\" cy=\"1.59708e+06\"/><circle stroke=\"red\" stroke-width=\"0\" fill=\"red\" opacity=\"0.5\" fill-opacity=\"0.5\" r=\"149277\" cx=\"935006\" cy=\"638195\"/><polygon stroke=\"red\" stroke-width=\"0.05%\" fill=\"green\" opacity=\"0.25\" fill-opacity=\"0.25\" points=\"1.46889e+06,104315 -23880,1.59708e+06 1.46889e+06,3.08985e+06 2.96165e+06,1.59708e+06\"/><circle stroke=\"blue\" stroke-width=\"0\" fill=\"blue\" opacity=\"1\" fill-opacity=\"1\" r=\"70347\" cx=\"2.08302e+06\" cy=\"3.74385e+06\"/><circle stroke=\"red\" stroke-width=\"0\" fill=\"red\" opacity=\"0.5\" fill-opacity=\"0.5\" r=\"70347\" cx=\"2.7682e+06\" cy=\"3.76214e+06\"/><polygon stroke=\"red\" stroke-width=\"0.05%\" fill=\"green\" opacity=\"0.25\" fill-opacity=\"0.25\" points=\"2.08302e+06,3.04038e+06 1.37955e+06,3.74385e+06 2.08302e+06,4.44732e+06 2.78648e+06,3.74385e+06\"/><circle stroke=\"blue\" stroke-width=\"0\" fill=\"blue\" opacity=\"1\" fill-opacity=\"1\" r=\"69450\" cx=\"3.38708e+06\" cy=\"3.39386e+06\"/><circle stroke=\"red\" stroke-width=\"0\" fill=\"red\" opacity=\"0.5\" fill-opacity=\"0.5\" r=\"69450\" cx=\"3.11358e+06\" cy=\"3.81486e+06\"/><polygon stroke=\"red\" stroke-width=\"0.05%\" fill=\"green\" opacity=\"0.25\" fill-opacity=\"0.25\" points=\"3.38708e+06,2.69937e+06 2.69259e+06,3.39386e+06 3.38708e+06,4.08836e+06 4.08157e+06,3.39386e+06\"/><circle stroke=\"blue\" stroke-width=\"0\" fill=\"blue\" opacity=\"1\" fill-opacity=\"1\" r=\"8226\" cx=\"2.95944e+06\" cy=\"2.05286e+06\"/><circle stroke=\"red\" stroke-width=\"0\" fill=\"red\" opacity=\"0.5\" fill-opacity=\"0.5\" r=\"8226\" cx=\"2.93004e+06\" cy=\"2e+06\"/><polygon stroke=\"red\" stroke-width=\"0.05%\" fill=\"green\" opacity=\"0.25\" fill-opacity=\"0.25\" points=\"2.95944e+06,1.9706e+06 2.87718e+06,2.05286e+06 2.95944e+06,2.13512e+06 3.0417e+06,2.05286e+06\"/><circle stroke=\"blue\" stroke-width=\"0\" fill=\"blue\" opacity=\"1\" fill-opacity=\"1\" r=\"71965\" cx=\"1.1808e+06\" cy=\"1.11204e+06\"/><circle stroke=\"red\" stroke-width=\"0\" fill=\"red\" opacity=\"0.5\" fill-opacity=\"0.5\" r=\"71965\" cx=\"935006\" cy=\"638195\"/><polygon stroke=\"red\" stroke-width=\"0.05%\" fill=\"green\" opacity=\"0.25\" fill-opacity=\"0.25\" points=\"1.1808e+06,392397 461158,1.11204e+06 1.1808e+06,1.83169e+06 1.90045e+06,1.11204e+06\"/><circle stroke=\"blue\" stroke-width=\"0\" fill=\"blue\" opacity=\"1\" fill-opacity=\"1\" r=\"30669\" cx=\"2.82981e+06\" cy=\"2.20645e+06\"/><circle stroke=\"red\" stroke-width=\"0\" fill=\"red\" opacity=\"0.5\" fill-opacity=\"0.5\" r=\"30669\" cx=\"2.93004e+06\" cy=\"2e+06\"/><polygon stroke=\"red\" stroke-width=\"0.05%\" fill=\"green\" opacity=\"0.25\" fill-opacity=\"0.25\" points=\"2.82981e+06,1.89976e+06 2.52312e+06,2.20645e+06 2.82981e+06,2.51313e+06 3.13649e+06,2.20645e+06\"/><circle stroke=\"blue\" stroke-width=\"0\" fill=\"blue\" opacity=\"1\" fill-opacity=\"1\" r=\"14917\" cx=\"3.99902e+06\" cy=\"3.11426e+06\"/><circle stroke=\"red\" stroke-width=\"0\" fill=\"red\" opacity=\"0.5\" fill-opacity=\"0.5\" r=\"14917\" cx=\"3.92444e+06\" cy=\"3.03968e+06\"/><polygon stroke=\"red\" stroke-width=\"0.05%\" fill=\"green\" opacity=\"0.25\" fill-opacity=\"0.25\" points=\"3.99902e+06,2.9651e+06 3.84986e+06,3.11426e+06 3.99902e+06,3.26342e+06 4.14818e+06,3.11426e+06\"/><circle stroke=\"blue\" stroke-width=\"0\" fill=\"blue\" opacity=\"1\" fill-opacity=\"1\" r=\"109897\" cx=\"540955\" cy=\"3.89331e+06\"/><circle stroke=\"red\" stroke-width=\"0\" fill=\"red\" opacity=\"0.5\" fill-opacity=\"0.5\" r=\"109897\" cx=\"227814\" cy=\"3.10749e+06\"/><polygon stroke=\"red\" stroke-width=\"0.05%\" fill=\"green\" opacity=\"0.25\" fill-opacity=\"0.25\" points=\"540955,2.79435e+06 -558009,3.89331e+06 540955,4.99228e+06 1.63992e+06,3.89331e+06\"/><circle stroke=\"blue\" stroke-width=\"0\" fill=\"blue\" opacity=\"1\" fill-opacity=\"1\" r=\"94434\" cx=\"3.66906e+06\" cy=\"2.35073e+06\"/><circle stroke=\"red\" stroke-width=\"0\" fill=\"red\" opacity=\"0.5\" fill-opacity=\"0.5\" r=\"94434\" cx=\"3.92444e+06\" cy=\"3.03968e+06\"/><polygon stroke=\"red\" stroke-width=\"0.05%\" fill=\"green\" opacity=\"0.25\" fill-opacity=\"0.25\" points=\"3.66906e+06,1.4064e+06 2.72472e+06,2.35073e+06 3.66906e+06,3.29506e+06 4.61339e+06,2.35073e+06\"/><circle stroke=\"blue\" stroke-width=\"0\" fill=\"blue\" opacity=\"1\" fill-opacity=\"1\" r=\"41712\" cx=\"2.91507e+06\" cy=\"2.75427e+06\"/><circle stroke=\"red\" stroke-width=\"0\" fill=\"red\" opacity=\"0.5\" fill-opacity=\"0.5\" r=\"41712\" cx=\"2.53763e+06\" cy=\"2.79394e+06\"/><polygon stroke=\"red\" stroke-width=\"0.05%\" fill=\"green\" opacity=\"0.25\" fill-opacity=\"0.25\" points=\"2.91507e+06,2.33715e+06 2.49796e+06,2.75427e+06 2.91507e+06,3.17138e+06 3.33218e+06,2.75427e+06\"/><circle stroke=\"blue\" stroke-width=\"0\" fill=\"blue\" opacity=\"1\" fill-opacity=\"1\" r=\"61802\" cx=\"3.50742e+06\" cy=\"2.83869e+06\"/><circle stroke=\"red\" stroke-width=\"0\" fill=\"red\" opacity=\"0.5\" fill-opacity=\"0.5\" r=\"61802\" cx=\"3.92444e+06\" cy=\"3.03968e+06\"/><polygon stroke=\"red\" stroke-width=\"0.05%\" fill=\"green\" opacity=\"0.25\" fill-opacity=\"0.25\" points=\"3.50742e+06,2.22067e+06 2.8894e+06,2.83869e+06 3.50742e+06,3.4567e+06 4.12544e+06,2.83869e+06\"/><circle stroke=\"blue\" stroke-width=\"0\" fill=\"blue\" opacity=\"1\" fill-opacity=\"1\" r=\"90868\" cx=\"165939\" cy=\"498589\"/><circle stroke=\"red\" stroke-width=\"0\" fill=\"red\" opacity=\"0.5\" fill-opacity=\"0.5\" r=\"90868\" cx=\"935006\" cy=\"638195\"/><polygon stroke=\"red\" stroke-width=\"0.05%\" fill=\"green\" opacity=\"0.25\" fill-opacity=\"0.25\" points=\"165939,-410084 -742734,498589 165939,1.40726e+06 1.07461e+06,498589\"/><circle stroke=\"blue\" stroke-width=\"0\" fill=\"blue\" opacity=\"1\" fill-opacity=\"1\" r=\"75950\" cx=\"3.91792e+06\" cy=\"3.79265e+06\"/><circle stroke=\"red\" stroke-width=\"0\" fill=\"red\" opacity=\"0.5\" fill-opacity=\"0.5\" r=\"75950\" cx=\"3.92444e+06\" cy=\"3.03968e+06\"/><polygon stroke=\"red\" stroke-width=\"0.05%\" fill=\"green\" opacity=\"0.25\" fill-opacity=\"0.25\" points=\"3.91792e+06,3.03315e+06 3.15842e+06,3.79265e+06 3.91792e+06,4.55214e+06 4.67741e+06,3.79265e+06\"/><circle stroke=\"blue\" stroke-width=\"0\" fill=\"blue\" opacity=\"1\" fill-opacity=\"1\" r=\"28189\" cx=\"40698\" cy=\"3.20226e+06\"/><circle stroke=\"red\" stroke-width=\"0\" fill=\"red\" opacity=\"0.5\" fill-opacity=\"0.5\" r=\"28189\" cx=\"227814\" cy=\"3.10749e+06\"/><polygon stroke=\"red\" stroke-width=\"0.05%\" fill=\"green\" opacity=\"0.25\" fill-opacity=\"0.25\" points=\"40698,2.92037e+06 -241186,3.20226e+06 40698,3.48414e+06 322582,3.20226e+06\"/><circle stroke=\"blue\" stroke-width=\"0\" fill=\"blue\" opacity=\"1\" fill-opacity=\"1\" r=\"43652\" cx=\"2.61995e+06\" cy=\"2.43974e+06\"/><circle stroke=\"red\" stroke-width=\"0\" fill=\"red\" opacity=\"0.5\" fill-opacity=\"0.5\" r=\"43652\" cx=\"2.53763e+06\" cy=\"2.79394e+06\"/><polygon stroke=\"red\" stroke-width=\"0.05%\" fill=\"green\" opacity=\"0.25\" fill-opacity=\"0.25\" points=\"2.61995e+06,2.00323e+06 2.18343e+06,2.43974e+06 2.61995e+06,2.87626e+06 3.05646e+06,2.43974e+06\"/><line stroke=\"red\" stroke-width=\"0.1%\" fill=\"red\" opacity=\"1\" fill-opacity=\"1\" x1=\"-76150\" y1=\"3.01787e+06\" x2=\"3.06858e+06\" y2=\"3.01787e+06\"/><line stroke=\"red\" stroke-width=\"0.1%\" fill=\"red\" opacity=\"1\" fill-opacity=\"1\" x1=\"3.06858e+06\" y1=\"3.01787e+06\" x2=\"4.07884e+06\" y2=\"3.01787e+06\"/></svg>"
      ]
     },
     "metadata": {},
     "output_type": "display_data"
    }
   ],
   "source": [
    "sensors |> Preview.plot (0,0) (4000000, 4000000) y"
   ]
  }
 ],
 "metadata": {
  "kernelspec": {
   "display_name": ".NET (C#)",
   "language": "C#",
   "name": ".net-csharp"
  },
  "polyglot_notebook": {
   "kernelInfo": {
    "defaultKernelName": "csharp",
    "items": [
     {
      "aliases": [
       "c#",
       "C#"
      ],
      "languageName": "C#",
      "name": "csharp"
     },
     {
      "aliases": [
       "frontend"
      ],
      "languageName": null,
      "name": "vscode"
     }
    ]
   }
  }
 },
 "nbformat": 4,
 "nbformat_minor": 2
}
