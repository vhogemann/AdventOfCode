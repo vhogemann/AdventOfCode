{
 "cells": [
  {
   "cell_type": "markdown",
   "metadata": {},
   "source": [
    "--- Day 8: Treetop Tree House ---\n",
    "===\n",
    "\n",
    "The expedition comes across a peculiar patch of tall trees all planted carefully in a grid. The Elves explain that a previous expedition planted these trees as a reforestation effort. Now, they're curious if this would be a good location for a tree house.\n",
    "\n",
    "First, determine whether there is enough tree cover here to keep a tree house hidden. To do this, you need to count the number of trees that are visible from outside the grid when looking directly along a row or column.\n",
    "\n",
    "The Elves have already launched a quadcopter to generate a map with the height of each tree (your puzzle input). For example:\n",
    "\n",
    "```\n",
    "30373\n",
    "25512\n",
    "65332\n",
    "33549\n",
    "35390\n",
    "```\n",
    "\n",
    "Each tree is represented as a single digit whose value is its height, where 0 is the shortest and 9 is the tallest.\n",
    "\n",
    "A tree is visible if all of the other trees between it and an edge of the grid are shorter than it. Only consider trees in the same row or column; that is, only look up, down, left, or right from any given tree.\n",
    "\n",
    "All of the trees around the edge of the grid are visible - since they are already on the edge, there are no trees to block the view. In this example, that only leaves the interior nine trees to consider:\n",
    "\n",
    "- The top-left 5 is visible from the left and top. (It isn't visible from the right or bottom since other trees of height 5 are in the way.)\n",
    "- The top-middle 5 is visible from the top and right.\n",
    "- The top-right 1 is not visible from any direction; for it to be visible, there would need to only be trees of height 0 between it and an edge.\n",
    "- The left-middle 5 is visible, but only from the right.\n",
    "- The center 3 is not visible from any direction; for it to be visible, there would need to be only trees of at most height 2 between it and an edge.\n",
    "- The right-middle 3 is visible from the right.\n",
    "- In the bottom row, the middle 5 is visible, but the 3 and 4 are not.\n",
    "\n",
    "With 16 trees visible on the edge and another 5 visible in the interior, a total of 21 trees are visible in this arrangement.\n",
    "\n",
    "Consider your map; how many trees are visible from outside the grid?"
   ]
  },
  {
   "cell_type": "code",
   "execution_count": 98,
   "metadata": {
    "dotnet_interactive": {
     "language": "fsharp"
    },
    "vscode": {
     "languageId": "dotnet-interactive.fsharp"
    }
   },
   "outputs": [
    {
     "data": {
      "text/html": [
       "<div class=\"dni-plaintext\">1816</div>"
      ]
     },
     "metadata": {},
     "output_type": "display_data"
    }
   ],
   "source": [
    "let ResolutionFolder = __SOURCE_DIRECTORY__\n",
    "type Tree = {\n",
    "    line: int\n",
    "    column: int\n",
    "    height: int\n",
    "}\n",
    "\n",
    "module Visible =\n",
    "    type State = { max: int; visible: Tree seq } with static member Empty = { max = -1; visible = Seq.empty }\n",
    "    let find (line:Tree seq) =\n",
    "        let folder acc tree =\n",
    "            if tree.height > acc.max then\n",
    "                { max = tree.height; visible = acc.visible |> Seq.append [tree] }\n",
    "            else\n",
    "                acc\n",
    "        let front = line |> Seq.fold folder State.Empty\n",
    "        let back = line |> Seq.rev |> Seq.fold folder State.Empty\n",
    "\n",
    "        front.visible \n",
    "        |> Seq.append back.visible\n",
    "        |> Set.ofSeq\n",
    "\n",
    "let lineToTree line column height =\n",
    "    { line = line; column = column; height = $\"{height}\" |> int }\n",
    "\n",
    "let forest = \n",
    "    System.IO.File.ReadLines(ResolutionFolder + \"/input8.txt\")\n",
    "    |> Seq.mapi (fun line trees -> trees |> Seq.mapi (lineToTree line))\n",
    "\n",
    "let lines = \n",
    "    forest \n",
    "    |> Seq.map Visible.find \n",
    "    |> Seq.concat\n",
    "\n",
    "let columns = \n",
    "    forest \n",
    "    |> Seq.transpose \n",
    "    |> Seq.map Visible.find \n",
    "    |> Seq.concat\n",
    "\n",
    "columns\n",
    "|> Seq.append lines\n",
    "|> Set.ofSeq\n",
    "|> Seq.length"
   ]
  },
  {
   "cell_type": "markdown",
   "metadata": {},
   "source": [
    "--- Part Two ---\n",
    "===\n",
    "\n",
    "Content with the amount of tree cover available, the Elves just need to know the best spot to build their tree house: they would like to be able to see a lot of trees.\n",
    "\n",
    "To measure the viewing distance from a given tree, look up, down, left, and right from that tree; stop if you reach an edge or at the first tree that is the same height or taller than the tree under consideration. (If a tree is right on the edge, at least one of its viewing distances will be zero.)\n",
    "\n",
    "The Elves don't care about distant trees taller than those found by the rules above; the proposed tree house has large eaves to keep it dry, so they wouldn't be able to see higher than the tree house anyway.\n",
    "\n",
    "In the example above, consider the middle 5 in the second row:\n",
    "```\n",
    "30373\n",
    "25512\n",
    "65332\n",
    "33549\n",
    "35390\n",
    "```\n",
    "Looking up, its view is not blocked; it can see 1 tree (of height 3).\n",
    "Looking left, its view is blocked immediately; it can see only 1 tree (of height 5, right next to it).\n",
    "Looking right, its view is not blocked; it can see 2 trees.\n",
    "Looking down, its view is blocked eventually; it can see 2 trees (one of height 3, then the tree of height 5 that blocks its view).\n",
    "A tree's scenic score is found by multiplying together its viewing distance in each of the four directions. For this tree, this is 4 (found by multiplying 1 * 1 * 2 * 2).\n",
    "\n",
    "However, you can do even better: consider the tree of height 5 in the middle of the fourth row:\n",
    "```\n",
    "30373\n",
    "25512\n",
    "65332\n",
    "33549\n",
    "35390\n",
    "```\n",
    "- Looking up, its view is blocked at 2 trees (by another tree with a height of 5).\n",
    "- Looking left, its view is not blocked; it can see 2 trees.\n",
    "- Looking down, its view is also not blocked; it can see 1 tree.\n",
    "- Looking right, its view is blocked at 2 trees (by a massive tree of height 9).\n",
    "\n",
    "This tree's scenic score is 8 (2 * 2 * 1 * 2); this is the ideal spot for the tree house.\n",
    "\n",
    "Consider each tree on your map. What is the highest scenic score possible for any tree?"
   ]
  },
  {
   "cell_type": "code",
   "execution_count": 99,
   "metadata": {
    "dotnet_interactive": {
     "language": "fsharp"
    },
    "vscode": {
     "languageId": "dotnet-interactive.fsharp"
    }
   },
   "outputs": [
    {
     "data": {
      "text/html": [
       "<div class=\"dni-plaintext\">383520</div>"
      ]
     },
     "metadata": {},
     "output_type": "display_data"
    }
   ],
   "source": [
    "module Score =\n",
    "    \n",
    "    let backTrace height (trees: Tree seq) =\n",
    "        trees \n",
    "        |> Seq.tryFindIndex (fun it -> it.height >= height)\n",
    "        |> Option.map ((+) 1)\n",
    "        |> Option.defaultValue (trees |> Seq.length)\n",
    "\n",
    "    \n",
    "    let getScore (visited) (tree: Tree) =\n",
    "        let result = \n",
    "            if Seq.isEmpty visited then\n",
    "                0\n",
    "            else\n",
    "                backTrace (tree.height) visited\n",
    "        \n",
    "        (tree, result), visited |> Seq.append [tree]\n",
    "\n",
    "    let calculate trees =\n",
    "        let forward =\n",
    "            trees\n",
    "            |> Seq.mapFold getScore Seq.empty\n",
    "            |> fst\n",
    "        let backward =\n",
    "            trees\n",
    "            |> Seq.rev\n",
    "            |> Seq.mapFold getScore Seq.empty\n",
    "            |> fst\n",
    "            |> Seq.rev\n",
    "        (forward,backward) ||> Seq.map2 (fun (ft,fs) (bt, bs) -> (fs * bs), ft)\n",
    "\n",
    "// forest\n",
    "// |> Seq.map (Seq.mapFold Score.getScore Seq.empty >> fst >> Seq.map snd) |> display\n",
    "\n",
    "// forest\n",
    "// |> Seq.map (Seq.rev >> Seq.mapFold Score.getScore Seq.empty >> fst >> Seq.map snd >> Seq.rev) |> display\n",
    "\n",
    "let horizontal =\n",
    "    forest\n",
    "    |> Seq.map (Score.calculate)\n",
    "    |> Seq.concat\n",
    "    |> Seq.sortBy snd\n",
    "    |> Seq.map fst\n",
    "\n",
    "let vertical =\n",
    "    forest\n",
    "    |> Seq.transpose\n",
    "    |> Seq.map (Score.calculate)\n",
    "    |> Seq.concat\n",
    "    |> Seq.sortBy snd\n",
    "    |> Seq.map fst\n",
    "\n",
    "(horizontal, vertical) ||> Seq.map2 (fun x y -> x * y) |> Seq.max"
   ]
  }
 ],
 "metadata": {
  "kernelspec": {
   "display_name": ".NET (C#)",
   "language": "C#",
   "name": ".net-csharp"
  },
  "language_info": {
   "file_extension": ".cs",
   "mimetype": "text/x-csharp",
   "name": "C#",
   "pygments_lexer": "csharp",
   "version": "9.0"
  },
  "orig_nbformat": 4
 },
 "nbformat": 4,
 "nbformat_minor": 2
}
